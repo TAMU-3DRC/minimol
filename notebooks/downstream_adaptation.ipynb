{
 "cells": [
  {
   "cell_type": "markdown",
   "metadata": {},
   "source": [
    "# Downstream adaption with MiniMol\n",
    "\n",
    "This example shows how MiniMol can featurise small molecules that will then serve as an input to another model trained on a small downstream dataset from TDC ADMET. This allows to transfer the knowledge from the pre-trained MiniMol to another task. \n",
    "\n",
    "Before we start, let's make sure that the TDC package is installed in the environment. It takes a while, that's why we don't include it in the dependencies."
   ]
  },
  {
   "cell_type": "code",
   "execution_count": 1,
   "metadata": {},
   "outputs": [],
   "source": [
    "# %pip install PyTDC"
   ]
  },
  {
   "cell_type": "markdown",
   "metadata": {},
   "source": [
    "## Step 1: Getting the data\n",
    "Next, we will build a predictor for the `HIA Hou` dataset, one of the binary classification benchmarks from TDC ADMET group. HIA stands for human intestinal absorption (HIA), which is related to the ability to absorb a substance through the gastrointestinal system into the bloodstream of the human body.\n",
    "\n",
    "We then split the data based on molecular scaffolds into training, validation and test sets. "
   ]
  },
  {
   "cell_type": "code",
   "execution_count": 2,
   "metadata": {},
   "outputs": [
    {
     "name": "stderr",
     "output_type": "stream",
     "text": [
      "Found local copy...\n",
      "generating training, validation splits...\n",
      "generating training, validation splits...\n",
      "100%|██████████| 461/461 [00:00<00:00, 3452.13it/s]\n"
     ]
    }
   ],
   "source": [
    "from tdc.benchmark_group import admet_group\n",
    "\n",
    "DATASET_NAME = 'hia_hou'\n",
    "\n",
    "admet = admet_group(path=\"admet-data/\")\n",
    "\n",
    "mols_test = admet.get(DATASET_NAME)['test']\n",
    "mols_train, mols_val = admet.get_train_valid_split(benchmark=DATASET_NAME, split_type='scaffold', seed=42)"
   ]
  },
  {
   "cell_type": "code",
   "execution_count": 3,
   "metadata": {},
   "outputs": [
    {
     "name": "stdout",
     "output_type": "stream",
     "text": [
      "Dataset - hia_hou\n",
      "\n",
      "Val split (58 mols): \n",
      "                 Drug_ID                                               Drug  Y\n",
      "0         Atracurium.mol  COc1ccc(C[C@H]2c3cc(OC)c(OC)cc3CC[N@@+]2(C)CCC...  0\n",
      "1  Succinylsulfathiazole          O=C(O)CCC(=O)Nc1ccc(S(=O)(=O)Nc2nccs2)cc1  0\n",
      "2            Ticarcillin  CC1(C)S[C@H]2[C@@H](NC(=O)[C@@H](C(=O)O)c3ccsc...  0\n",
      "3          Raffinose.mol  OC[C@@H]1O[C@@H](OC[C@@H]2O[C@@H](O[C@]3(CO)O[...  0\n",
      "4          Triamcinolone  C[C@@]12C=CC(=O)C=C1CC[C@@H]1[C@H]3C[C@@H](O)[...  1\n",
      "\n",
      "Test split (117 mols): \n",
      "                Drug_ID                                               Drug  Y\n",
      "0         Trazodone.mol         O=c1n(CCCN2CCN(c3cccc(Cl)c3)CC2)nc2ccccn12  1\n",
      "1          Lisuride.mol  CCN(CC)C(=O)N[C@H]1C=C2c3cccc4[nH]cc(c34)C[C@@...  1\n",
      "2  Methylergonovine.mol  CC[C@H](CO)NC(=O)[C@H]1C=C2c3cccc4[nH]cc(c34)C...  1\n",
      "3      Methysergide.mol  CC[C@H](CO)NC(=O)[C@H]1C=C2c3cccc4c3c(cn4C)C[C...  1\n",
      "4       Moclobemide.mol                       O=C(NCCN1CCOCC1)c1ccc(Cl)cc1  1\n",
      "\n",
      "Train split (403 mols): \n",
      "           Drug_ID                                               Drug  Y\n",
      "0        Guanadrel                      N=C(N)NC[C@@H]1COC2(CCCCC2)O1  1\n",
      "1      Cefmetazole  CO[C@@]1(NC(=O)CSCC#N)C(=O)N2C(C(=O)O)=C(CSc3n...  0\n",
      "2   Zonisamide.mol                           NS(=O)(=O)Cc1noc2ccccc12  1\n",
      "3   Furosemide.mol            NS(=O)(=O)c1cc(Cl)cc(NCc2ccco2)c1C(=O)O  1\n",
      "4  Telmisartan.mol  CCCc1nc2c(n1Cc1ccc(-c3ccccc3C(=O)O)cc1)=C[C@H]...  1\n",
      "\n"
     ]
    }
   ],
   "source": [
    "print(f\"Dataset - {DATASET_NAME}\\n\")\n",
    "print(f\"Val split ({len(mols_val)} mols): \\n{mols_val.head()}\\n\")\n",
    "print(f\"Test split ({len(mols_test)} mols): \\n{mols_test.head()}\\n\")\n",
    "print(f\"Train split ({len(mols_train)} mols): \\n{mols_train.head()}\\n\")"
   ]
  },
  {
   "cell_type": "markdown",
   "metadata": {},
   "source": [
    "## Step 2: Generating molecular fingerprints\n",
    "Now that we have the splits, we will use MiniMol to embed all molecules. The embedding will be added as an extra column in the dataframe returned by TDC."
   ]
  },
  {
   "cell_type": "code",
   "execution_count": 4,
   "metadata": {},
   "outputs": [],
   "source": [
    "from minimol import Minimol\n",
    "\n",
    "featuriser = Minimol()"
   ]
  },
  {
   "cell_type": "code",
   "execution_count": 5,
   "metadata": {},
   "outputs": [
    {
     "name": "stderr",
     "output_type": "stream",
     "text": [
      "featurizing_smiles, batch=1: 100%|██████████| 58/58 [00:04<00:00, 11.98it/s]\n",
      "Casting to FP32: 100%|██████████| 58/58 [00:00<00:00, 11291.76it/s]\n",
      "100%|██████████| 1/1 [00:00<00:00,  5.45it/s]\n",
      "featurizing_smiles, batch=3: 100%|██████████| 39/39 [00:00<00:00, 467.55it/s]\n",
      "Casting to FP32: 100%|██████████| 117/117 [00:00<00:00, 17274.48it/s]\n",
      "100%|██████████| 2/2 [00:00<00:00,  7.84it/s]\n",
      "featurizing_smiles, batch=13: 100%|██████████| 31/31 [00:00<00:00, 125.38it/s]\n",
      "Casting to FP32: 100%|██████████| 403/403 [00:00<00:00, 21531.17it/s]\n",
      "100%|██████████| 5/5 [00:00<00:00,  5.60it/s]\n"
     ]
    }
   ],
   "source": [
    "mols_val['Embedding'] = featuriser(list(mols_val['Drug']))\n",
    "mols_test['Embedding'] = featuriser(list(mols_test['Drug']))\n",
    "mols_train['Embedding'] = featuriser(list(mols_train['Drug']))"
   ]
  },
  {
   "cell_type": "markdown",
   "metadata": {},
   "source": [
    "The model is small, so it took us 7.3 seconds to generate the embeddings for almost 600 molecules. Here is a preview after the new column has been added:"
   ]
  },
  {
   "cell_type": "code",
   "execution_count": 6,
   "metadata": {},
   "outputs": [
    {
     "name": "stdout",
     "output_type": "stream",
     "text": [
      "           Drug_ID                                               Drug  Y  \\\n",
      "0        Guanadrel                      N=C(N)NC[C@@H]1COC2(CCCCC2)O1  1   \n",
      "1      Cefmetazole  CO[C@@]1(NC(=O)CSCC#N)C(=O)N2C(C(=O)O)=C(CSc3n...  0   \n",
      "2   Zonisamide.mol                           NS(=O)(=O)Cc1noc2ccccc12  1   \n",
      "3   Furosemide.mol            NS(=O)(=O)c1cc(Cl)cc(NCc2ccco2)c1C(=O)O  1   \n",
      "4  Telmisartan.mol  CCCc1nc2c(n1Cc1ccc(-c3ccccc3C(=O)O)cc1)=C[C@H]...  1   \n",
      "\n",
      "                                           Embedding  \n",
      "0  [1.8960192, 0.59439033, -1.0357288, 0.3129699,...  \n",
      "1  [-1.0467318, 0.2789424, -0.503565, -1.1411885,...  \n",
      "2  [0.8090856, 0.87236685, -0.5038779, 0.53158706...  \n",
      "3  [-0.16701677, -0.22239566, 0.40283644, 0.18509...  \n",
      "4  [-0.67387235, -0.058095545, -0.13308619, -0.14...  \n"
     ]
    }
   ],
   "source": [
    "print(mols_train.head())"
   ]
  },
  {
   "cell_type": "markdown",
   "metadata": {},
   "source": [
    "## Step 3: Training a model\n",
    "Now that the molecules are featurised leverging the representation MiniMol learned during its pre-training, we will set up a training and evaluation loop of a simple Multi-Layer Perceptron model using PyTorch.\n",
    "\n",
    "Let's start by defining a new class for the dataset and then creating a separate dataloader for each split."
   ]
  },
  {
   "cell_type": "code",
   "execution_count": 7,
   "metadata": {},
   "outputs": [],
   "source": [
    "from torch.utils.data import DataLoader, Dataset\n",
    "    \n",
    "class AdmetDataset(Dataset):\n",
    "    def __init__(self, samples):\n",
    "        self.samples = samples['Embedding'].tolist()\n",
    "        self.targets = [float(target) for target in samples['Y'].tolist()]\n",
    "\n",
    "    def __len__(self):\n",
    "        return len(self.samples)\n",
    "\n",
    "    def __getitem__(self, idx):\n",
    "        sample = torch.tensor(self.samples[idx])\n",
    "        target = torch.tensor(self.targets[idx])\n",
    "        return sample, target\n",
    "\n",
    "val_loader = DataLoader(AdmetDataset(mols_val), batch_size=128, shuffle=False)\n",
    "test_loader = DataLoader(AdmetDataset(mols_test), batch_size=128, shuffle=False)\n",
    "train_loader = DataLoader(AdmetDataset(mols_train), batch_size=32, shuffle=True)"
   ]
  },
  {
   "cell_type": "markdown",
   "metadata": {},
   "source": [
    "Our model is a simple 3-layer perceptron with batch normalisation and dropout. We also add a residual connection that before the last layer concatates the the input features with the output from the second to last layer."
   ]
  },
  {
   "cell_type": "code",
   "execution_count": 32,
   "metadata": {},
   "outputs": [],
   "source": [
    "import torch.nn as nn\n",
    "import torch.nn.functional as F\n",
    "\n",
    "\n",
    "class TaskHead(nn.Module):\n",
    "    def __init__(self):\n",
    "        super(TaskHead, self).__init__()\n",
    "        self.dense1 = nn.Linear(1024, 1024)\n",
    "        self.dense2 = nn.Linear(1024, 1024)\n",
    "        self.dense3 = nn.Linear(1024, 1024)\n",
    "        self.dense4 = nn.Linear(2048, 1)\n",
    "        self.bn1 = nn.BatchNorm1d(1024)\n",
    "        self.bn2 = nn.BatchNorm1d(1024)\n",
    "        self.bn3 = nn.BatchNorm1d(1024)\n",
    "        self.dropout = nn.Dropout(0.1)\n",
    "        self.sigmoid = nn.Sigmoid()\n",
    "\n",
    "    def forward(self, x):\n",
    "        original_x = x\n",
    "\n",
    "        x = self.dense1(x)\n",
    "        x = self.bn1(x)\n",
    "        x = self.dropout(x)\n",
    "        x = F.relu(x)\n",
    "\n",
    "        x = self.dense2(x)\n",
    "        x = self.bn2(x)\n",
    "        x = self.dropout(x)\n",
    "        x = F.relu(x)\n",
    "\n",
    "        x = self.dense3(x)\n",
    "        x = self.bn3(x)\n",
    "        x = self.dropout(x)\n",
    "        x = F.relu(x)\n",
    "\n",
    "        x = torch.cat((x, original_x), dim=1)\n",
    "        x = self.dense4(x)\n",
    "        \n",
    "        return self.sigmoid(x)"
   ]
  },
  {
   "cell_type": "markdown",
   "metadata": {},
   "source": [
    "Below we declare the basic hyperparamters, optimiser, loss function and learning rate scheduler. We build a model factory that allows us to instatiate a fresh copy of everything, which will become useful later."
   ]
  },
  {
   "cell_type": "code",
   "execution_count": 65,
   "metadata": {},
   "outputs": [],
   "source": [
    "import math\n",
    "import torch.optim as optim\n",
    "\n",
    "lr = 0.007\n",
    "epochs = 25\n",
    "warmup = 12\n",
    "\n",
    "loss_fn = nn.BCELoss()\n",
    "\n",
    "def model_factory():\n",
    "    model = TaskHead()\n",
    "    lr_fn = lambda epoch: lr * (1 + math.cos(math.pi * (epoch - warmup) / (epochs - warmup))) / 2\n",
    "    optimiser = optim.Adam(model.parameters(), lr=lr, weight_decay=0.0001)\n",
    "    lr_scheduler = optim.lr_scheduler.LambdaLR(optimiser, lr_fn)\n",
    "    return model, optimiser, lr_scheduler"
   ]
  },
  {
   "cell_type": "markdown",
   "metadata": {},
   "source": [
    "For evaluation we will use both AUROC and Average Precision metrics. The reported loss would be an average across all samples in the epoch."
   ]
  },
  {
   "cell_type": "code",
   "execution_count": 35,
   "metadata": {},
   "outputs": [],
   "source": [
    "import torch\n",
    "from sklearn.metrics import roc_auc_score, average_precision_score\n",
    "\n",
    "def evaluate(predictor, dataloader, loss_fn):\n",
    "    predictor.eval()\n",
    "    total_loss = 0\n",
    "    all_probs = []\n",
    "    all_targets = []\n",
    "\n",
    "    with torch.no_grad():\n",
    "        for inputs, targets in dataloader:\n",
    "            probs = predictor(inputs).squeeze()\n",
    "            loss = loss_fn(probs, targets)\n",
    "            total_loss += loss.item()\n",
    "            all_probs.extend(probs.tolist())\n",
    "            all_targets.extend(targets.tolist())\n",
    "\n",
    "    loss = total_loss / len(dataloader)\n",
    "    \n",
    "    return (\n",
    "        loss,\n",
    "        roc_auc_score(all_targets, all_probs),\n",
    "        average_precision_score(all_targets, all_probs)\n",
    "    )"
   ]
  },
  {
   "cell_type": "markdown",
   "metadata": {},
   "source": [
    "Training is a rather standard boilerplate loop: "
   ]
  },
  {
   "cell_type": "code",
   "execution_count": 36,
   "metadata": {},
   "outputs": [],
   "source": [
    "def train_one_epoch(predictor, optimiser, lr_scheduler, loss_fn, epoch, verbose=True):\n",
    "    predictor.train()        \n",
    "    train_loss = 0\n",
    "\n",
    "    lr_scheduler.step(epoch)\n",
    "    for inputs, targets in train_loader:\n",
    "        optimiser.zero_grad()\n",
    "        probs = predictor(inputs).squeeze()\n",
    "        loss = loss_fn(probs, targets)\n",
    "        loss.backward()\n",
    "        optimiser.step()\n",
    "        train_loss += loss.item()\n",
    "\n",
    "    train_loss /= len(train_loader)\n",
    "\n",
    "    val_loss, auroc, avpr = evaluate(predictor, val_loader, loss_fn)\n",
    "\n",
    "    if verbose:\n",
    "        print(\n",
    "            f\"## Epoch {epoch+1}\\t\"\n",
    "            f\"train_loss: {train_loss:.4f}\\t\"\n",
    "            f\"val_loss: {val_loss:.4f}\\t\"\n",
    "            f\"val_auroc: {auroc:.4f}\\t\"\n",
    "            f\"val_avpr: {avpr:.4f}\"\n",
    "        )\n",
    "    return predictor"
   ]
  },
  {
   "cell_type": "markdown",
   "metadata": {},
   "source": [
    "And now, let's see how good our model gets after training... 🚀"
   ]
  },
  {
   "cell_type": "code",
   "execution_count": 71,
   "metadata": {},
   "outputs": [
    {
     "name": "stdout",
     "output_type": "stream",
     "text": [
      "## Epoch 0\ttrain_loss: ------\tval_loss: 0.9141\tval_auroc: 0.5689\tval_avpr: 0.9325\n",
      "## Epoch 1\ttrain_loss: 0.9210\tval_loss: 0.9622\tval_auroc: 0.5514\tval_avpr: 0.9229\n",
      "## Epoch 2\ttrain_loss: 0.8996\tval_loss: 0.9456\tval_auroc: 0.6241\tval_avpr: 0.9400\n",
      "## Epoch 3\ttrain_loss: 0.8682\tval_loss: 0.8676\tval_auroc: 0.7118\tval_avpr: 0.9557\n",
      "## Epoch 4\ttrain_loss: 0.8165\tval_loss: 0.7769\tval_auroc: 0.7469\tval_avpr: 0.9598\n",
      "## Epoch 5\ttrain_loss: 0.7175\tval_loss: 0.6671\tval_auroc: 0.7393\tval_avpr: 0.9568\n",
      "## Epoch 6\ttrain_loss: 0.6322\tval_loss: 0.5769\tval_auroc: 0.7669\tval_avpr: 0.9619\n",
      "## Epoch 7\ttrain_loss: 0.5351\tval_loss: 0.4929\tval_auroc: 0.7945\tval_avpr: 0.9663\n",
      "## Epoch 8\ttrain_loss: 0.4399\tval_loss: 0.4266\tval_auroc: 0.8321\tval_avpr: 0.9743\n",
      "## Epoch 9\ttrain_loss: 0.3596\tval_loss: 0.3647\tval_auroc: 0.8596\tval_avpr: 0.9800\n",
      "## Epoch 10\ttrain_loss: 0.2960\tval_loss: 0.3294\tval_auroc: 0.8697\tval_avpr: 0.9819\n",
      "## Epoch 11\ttrain_loss: 0.2392\tval_loss: 0.2968\tval_auroc: 0.8997\tval_avpr: 0.9869\n",
      "## Epoch 12\ttrain_loss: 0.1938\tval_loss: 0.2648\tval_auroc: 0.8897\tval_avpr: 0.9853\n",
      "## Epoch 13\ttrain_loss: 0.1698\tval_loss: 0.2463\tval_auroc: 0.8847\tval_avpr: 0.9844\n",
      "## Epoch 14\ttrain_loss: 0.1479\tval_loss: 0.2370\tval_auroc: 0.8647\tval_avpr: 0.9810\n",
      "## Epoch 15\ttrain_loss: 0.1345\tval_loss: 0.2286\tval_auroc: 0.8847\tval_avpr: 0.9843\n",
      "## Epoch 16\ttrain_loss: 0.1102\tval_loss: 0.2209\tval_auroc: 0.8972\tval_avpr: 0.9863\n",
      "## Epoch 17\ttrain_loss: 0.1061\tval_loss: 0.2211\tval_auroc: 0.8697\tval_avpr: 0.9822\n",
      "## Epoch 18\ttrain_loss: 0.0916\tval_loss: 0.2182\tval_auroc: 0.8822\tval_avpr: 0.9837\n",
      "## Epoch 19\ttrain_loss: 0.0760\tval_loss: 0.2107\tval_auroc: 0.8997\tval_avpr: 0.9866\n",
      "## Epoch 20\ttrain_loss: 0.0802\tval_loss: 0.2099\tval_auroc: 0.9023\tval_avpr: 0.9869\n",
      "## Epoch 21\ttrain_loss: 0.0733\tval_loss: 0.2096\tval_auroc: 0.8922\tval_avpr: 0.9853\n",
      "## Epoch 22\ttrain_loss: 0.0683\tval_loss: 0.2094\tval_auroc: 0.8922\tval_avpr: 0.9851\n",
      "## Epoch 23\ttrain_loss: 0.0749\tval_loss: 0.2097\tval_auroc: 0.8947\tval_avpr: 0.9856\n",
      "## Epoch 24\ttrain_loss: 0.0692\tval_loss: 0.2081\tval_auroc: 0.8972\tval_avpr: 0.9859\n",
      "## Epoch 25\ttrain_loss: 0.0705\tval_loss: 0.2095\tval_auroc: 0.8947\tval_avpr: 0.9856\n",
      "test_loss: 0.2197\n",
      "test_auroc: 0.9658\n",
      "test_avpr: 0.9896\n"
     ]
    }
   ],
   "source": [
    "model, optimiser, lr_scheduler = model_factory()\n",
    "\n",
    "val_loss, val_auroc, val_avpr = evaluate(model, val_loader, loss_fn)\n",
    "print(\n",
    "    f\"## Epoch 0\\t\"\n",
    "    f\"train_loss: ------\\t\"\n",
    "    f\"val_loss: {val_loss:.4f}\\t\"\n",
    "    f\"val_auroc: {val_auroc:.4f}\\t\"\n",
    "    f\"val_avpr: {val_avpr:.4f}\"\n",
    ")\n",
    "\n",
    "for epoch in range(epochs):\n",
    "    model = train_one_epoch(model, optimiser, lr_scheduler, loss_fn, epoch)\n",
    "\n",
    "test_loss, test_auroc, test_avpr = evaluate(model, test_loader, loss_fn)\n",
    "print(\n",
    "    f\"test_loss: {test_loss:.4f}\\n\"\n",
    "    f\"test_auroc: {test_auroc:.4f}\\n\"\n",
    "    f\"test_avpr: {test_avpr:.4f}\"\n",
    ")"
   ]
  },
  {
   "cell_type": "markdown",
   "metadata": {},
   "source": [
    "The model trained in just 1.4s, reaching AUROC on the test set of 0.9658. Pretty good!"
   ]
  },
  {
   "cell_type": "markdown",
   "metadata": {},
   "source": [
    "## Step 4: Improvements\n",
    "\n",
    "The result can be further improved. One problem is that the accuracy is quite sensitive to both the train-val splitting (reminder - we use scaffold splitting strategy) and the weight initialisation. Let's visualise the distribution by training a few models:"
   ]
  },
  {
   "cell_type": "code",
   "execution_count": 72,
   "metadata": {},
   "outputs": [],
   "source": [
    "def dataloader_factory(seed):\n",
    "    mols_train, mols_val = admet.get_train_valid_split(benchmark=DATASET_NAME, split_type='scaffold', seed=seed)\n",
    "\n",
    "    mols_val['Embedding'] = featuriser(list(mols_val['Drug']))\n",
    "    mols_train['Embedding'] = featuriser(list(mols_train['Drug']))\n",
    "\n",
    "    val_loader = DataLoader(AdmetDataset(mols_val), batch_size=128, shuffle=False)\n",
    "    train_loader = DataLoader(AdmetDataset(mols_train), batch_size=32, shuffle=True)\n",
    "\n",
    "    return val_loader, train_loader"
   ]
  },
  {
   "cell_type": "code",
   "execution_count": 74,
   "metadata": {},
   "outputs": [
    {
     "name": "stderr",
     "output_type": "stream",
     "text": [
      "generating training, validation splits...\n",
      "100%|██████████| 461/461 [00:00<00:00, 3122.75it/s]\n",
      "featurizing_smiles, batch=1: 100%|██████████| 58/58 [00:00<00:00, 849.36it/s]\n",
      "Casting to FP32: 100%|██████████| 58/58 [00:00<00:00, 17772.47it/s]\n",
      "100%|██████████| 1/1 [00:00<00:00,  6.15it/s]\n",
      "featurizing_smiles, batch=13: 100%|██████████| 31/31 [00:00<00:00, 130.28it/s]\n",
      "Casting to FP32: 100%|██████████| 403/403 [00:00<00:00, 16859.72it/s]\n",
      "100%|██████████| 5/5 [00:00<00:00,  8.42it/s]\n"
     ]
    },
    {
     "data": {
      "image/png": "[encoded data removed]",
      "text/plain": [
       "<Figure size 640x480 with 1 Axes>"
      ]
     },
     "metadata": {},
     "output_type": "display_data"
    }
   ],
   "source": [
    "import matplotlib.pyplot as plt\n",
    "\n",
    "results = []\n",
    "repeats = 50\n",
    "val_loader, train_loader = dataloader_factory(42)\n",
    "\n",
    "for _ in range(repeats):\n",
    "    model, optimiser, lr_scheduler = model_factory()\n",
    "    for epoch in range(epochs):\n",
    "        model = train_one_epoch(model, optimiser, lr_scheduler, loss_fn, epoch, verbose=False)\n",
    "    _, auroc, _ = evaluate(model, val_loader, loss_fn)\n",
    "    results.append(auroc)\n",
    "\n",
    "plt.hist(results, bins=12)\n",
    "plt.xlabel('AUROC')\n",
    "plt.ylabel('Frequency')\n",
    "plt.title('Distribution of AUROC results')\n",
    "plt.show()"
   ]
  },
  {
   "cell_type": "markdown",
   "metadata": {},
   "source": [
    "To mitigate the problem, we adapt two techniques:\n",
    "\n",
    "- Ensembling models trained on different folds of train-val data. Since the training is so fast, fitting a few addtional models is not a big deal. The train-val splitting method is provided by TDC.\n",
    "\n",
    "- Rather than choosing the model at the last epoch, we will use best validation loss to decide which one to choose.\n",
    "\n",
    "Below we implement a method that create a new training and validation dataloader for each fold, and also a method for ensemble-based evaluationm, where probabiltiies for each predition are averaged across all models in the ensemble."
   ]
  },
  {
   "cell_type": "code",
   "execution_count": 56,
   "metadata": {},
   "outputs": [],
   "source": [
    "def evaluate_ensemble(predictors, dataloader, loss_fn):\n",
    "    total_loss = 0\n",
    "    all_probs = []\n",
    "    all_targets = []\n",
    "\n",
    "    with torch.no_grad():\n",
    "        \n",
    "        for inputs, targets in dataloader:\n",
    "            model_outputs = [predictor(inputs).squeeze() for predictor in predictors]\n",
    "            averaged_output = torch.mean(torch.stack(model_outputs, dim=0), dim=0)\n",
    "\n",
    "            loss = loss_fn(averaged_output, targets)\n",
    "            total_loss += loss.item()\n",
    "\n",
    "            all_probs.extend(averaged_output.tolist())\n",
    "            all_targets.extend(targets.tolist())\n",
    "\n",
    "    loss = total_loss / len(dataloader)\n",
    "    return loss, roc_auc_score(all_targets, all_probs), average_precision_score(all_targets, all_probs)"
   ]
  },
  {
   "cell_type": "markdown",
   "metadata": {},
   "source": [
    "Finally, let's see how much better our model gets!"
   ]
  },
  {
   "cell_type": "code",
   "execution_count": 57,
   "metadata": {},
   "outputs": [
    {
     "name": "stderr",
     "output_type": "stream",
     "text": [
      "generating training, validation splits...\n",
      "100%|██████████| 461/461 [00:00<00:00, 3630.84it/s]\n",
      "featurizing_smiles, batch=1: 100%|██████████| 58/58 [00:00<00:00, 895.25it/s]\n",
      "Casting to FP32: 100%|██████████| 58/58 [00:00<00:00, 20223.60it/s]\n",
      "100%|██████████| 1/1 [00:00<00:00,  9.01it/s]\n",
      "featurizing_smiles, batch=13: 100%|██████████| 31/31 [00:00<00:00, 127.16it/s]\n",
      "Casting to FP32: 100%|██████████| 403/403 [00:00<00:00, 9570.45it/s]\n",
      "100%|██████████| 5/5 [00:00<00:00,  7.63it/s]\n"
     ]
    },
    {
     "name": "stdout",
     "output_type": "stream",
     "text": [
      "## Epoch 1\ttrain_loss: 0.6808\tval_loss: 0.6325\tval_auroc: 0.6947\tval_avpr: 0.9504\n",
      "## Epoch 2\ttrain_loss: 0.5717\tval_loss: 0.5438\tval_auroc: 0.9048\tval_avpr: 0.9856\n",
      "## Epoch 3\ttrain_loss: 0.4741\tval_loss: 0.4252\tval_auroc: 0.9636\tval_avpr: 0.9951\n",
      "## Epoch 4\ttrain_loss: 0.3665\tval_loss: 0.3521\tval_auroc: 0.9720\tval_avpr: 0.9964\n",
      "## Epoch 5\ttrain_loss: 0.3035\tval_loss: 0.3009\tval_auroc: 0.9720\tval_avpr: 0.9964\n",
      "## Epoch 6\ttrain_loss: 0.2312\tval_loss: 0.2586\tval_auroc: 0.9776\tval_avpr: 0.9971\n",
      "## Epoch 7\ttrain_loss: 0.1863\tval_loss: 0.2367\tval_auroc: 0.9720\tval_avpr: 0.9964\n",
      "## Epoch 8\ttrain_loss: 0.1532\tval_loss: 0.2265\tval_auroc: 0.9692\tval_avpr: 0.9960\n",
      "## Epoch 9\ttrain_loss: 0.1228\tval_loss: 0.2075\tval_auroc: 0.9748\tval_avpr: 0.9967\n",
      "## Epoch 10\ttrain_loss: 0.1009\tval_loss: 0.1981\tval_auroc: 0.9692\tval_avpr: 0.9961\n",
      "## Epoch 11\ttrain_loss: 0.0835\tval_loss: 0.2084\tval_auroc: 0.9636\tval_avpr: 0.9954\n",
      "## Epoch 12\ttrain_loss: 0.0720\tval_loss: 0.1954\tval_auroc: 0.9692\tval_avpr: 0.9961\n",
      "## Epoch 13\ttrain_loss: 0.0571\tval_loss: 0.2101\tval_auroc: 0.9636\tval_avpr: 0.9954\n",
      "## Epoch 14\ttrain_loss: 0.0474\tval_loss: 0.2067\tval_auroc: 0.9636\tval_avpr: 0.9954\n",
      "## Epoch 15\ttrain_loss: 0.0431\tval_loss: 0.2109\tval_auroc: 0.9636\tval_avpr: 0.9954\n",
      "## Epoch 16\ttrain_loss: 0.0430\tval_loss: 0.2066\tval_auroc: 0.9608\tval_avpr: 0.9950\n",
      "## Epoch 17\ttrain_loss: 0.0380\tval_loss: 0.2159\tval_auroc: 0.9664\tval_avpr: 0.9957\n",
      "## Epoch 18\ttrain_loss: 0.0375\tval_loss: 0.2165\tval_auroc: 0.9636\tval_avpr: 0.9954\n",
      "## Epoch 19\ttrain_loss: 0.0392\tval_loss: 0.2166\tval_auroc: 0.9608\tval_avpr: 0.9950\n",
      "## Epoch 20\ttrain_loss: 0.0271\tval_loss: 0.2177\tval_auroc: 0.9608\tval_avpr: 0.9950\n",
      "## Epoch 21\ttrain_loss: 0.0256\tval_loss: 0.2179\tval_auroc: 0.9608\tval_avpr: 0.9950\n",
      "## Epoch 22\ttrain_loss: 0.0315\tval_loss: 0.2224\tval_auroc: 0.9608\tval_avpr: 0.9950\n",
      "## Epoch 23\ttrain_loss: 0.0256\tval_loss: 0.2191\tval_auroc: 0.9608\tval_avpr: 0.9950\n",
      "## Epoch 24\ttrain_loss: 0.0293\tval_loss: 0.2202\tval_auroc: 0.9608\tval_avpr: 0.9950\n"
     ]
    },
    {
     "name": "stderr",
     "output_type": "stream",
     "text": [
      "generating training, validation splits...\n"
     ]
    },
    {
     "name": "stdout",
     "output_type": "stream",
     "text": [
      "## Epoch 25\ttrain_loss: 0.0357\tval_loss: 0.2192\tval_auroc: 0.9608\tval_avpr: 0.9950\n"
     ]
    },
    {
     "name": "stderr",
     "output_type": "stream",
     "text": [
      "100%|██████████| 461/461 [00:00<00:00, 3551.37it/s]\n",
      "featurizing_smiles, batch=1: 100%|██████████| 58/58 [00:00<00:00, 785.62it/s]\n",
      "Casting to FP32: 100%|██████████| 58/58 [00:00<00:00, 12696.74it/s]\n",
      "100%|██████████| 1/1 [00:00<00:00,  7.37it/s]\n",
      "featurizing_smiles, batch=13: 100%|██████████| 31/31 [00:00<00:00, 89.10it/s] \n",
      "Casting to FP32: 100%|██████████| 403/403 [00:00<00:00, 17306.28it/s]\n",
      "100%|██████████| 5/5 [00:00<00:00,  6.68it/s]\n"
     ]
    },
    {
     "name": "stdout",
     "output_type": "stream",
     "text": [
      "## Epoch 1\ttrain_loss: 0.6114\tval_loss: 0.6144\tval_auroc: 0.4453\tval_avpr: 0.9251\n",
      "## Epoch 2\ttrain_loss: 0.5115\tval_loss: 0.5596\tval_auroc: 0.7358\tval_avpr: 0.9654\n",
      "## Epoch 3\ttrain_loss: 0.4120\tval_loss: 0.4695\tval_auroc: 0.8453\tval_avpr: 0.9825\n",
      "## Epoch 4\ttrain_loss: 0.3299\tval_loss: 0.3754\tval_auroc: 0.9057\tval_avpr: 0.9904\n",
      "## Epoch 5\ttrain_loss: 0.2738\tval_loss: 0.3324\tval_auroc: 0.9283\tval_avpr: 0.9929\n",
      "## Epoch 6\ttrain_loss: 0.2157\tval_loss: 0.2726\tval_auroc: 0.9509\tval_avpr: 0.9953\n",
      "## Epoch 7\ttrain_loss: 0.1716\tval_loss: 0.2411\tval_auroc: 0.9509\tval_avpr: 0.9953\n",
      "## Epoch 8\ttrain_loss: 0.1371\tval_loss: 0.2306\tval_auroc: 0.9434\tval_avpr: 0.9945\n",
      "## Epoch 9\ttrain_loss: 0.1120\tval_loss: 0.2240\tval_auroc: 0.9434\tval_avpr: 0.9945\n",
      "## Epoch 10\ttrain_loss: 0.0934\tval_loss: 0.2051\tval_auroc: 0.9472\tval_avpr: 0.9949\n",
      "## Epoch 11\ttrain_loss: 0.0735\tval_loss: 0.1902\tval_auroc: 0.9509\tval_avpr: 0.9953\n",
      "## Epoch 12\ttrain_loss: 0.0597\tval_loss: 0.1983\tval_auroc: 0.9547\tval_avpr: 0.9957\n",
      "## Epoch 13\ttrain_loss: 0.0570\tval_loss: 0.1853\tval_auroc: 0.9623\tval_avpr: 0.9964\n",
      "## Epoch 14\ttrain_loss: 0.0500\tval_loss: 0.1862\tval_auroc: 0.9660\tval_avpr: 0.9968\n",
      "## Epoch 15\ttrain_loss: 0.0416\tval_loss: 0.1845\tval_auroc: 0.9660\tval_avpr: 0.9967\n",
      "## Epoch 16\ttrain_loss: 0.0375\tval_loss: 0.1817\tval_auroc: 0.9623\tval_avpr: 0.9964\n",
      "## Epoch 17\ttrain_loss: 0.0327\tval_loss: 0.1741\tval_auroc: 0.9623\tval_avpr: 0.9964\n",
      "## Epoch 18\ttrain_loss: 0.0377\tval_loss: 0.1806\tval_auroc: 0.9660\tval_avpr: 0.9968\n",
      "## Epoch 19\ttrain_loss: 0.0339\tval_loss: 0.1859\tval_auroc: 0.9623\tval_avpr: 0.9964\n",
      "## Epoch 20\ttrain_loss: 0.0309\tval_loss: 0.1800\tval_auroc: 0.9623\tval_avpr: 0.9964\n",
      "## Epoch 21\ttrain_loss: 0.0267\tval_loss: 0.1737\tval_auroc: 0.9660\tval_avpr: 0.9968\n",
      "## Epoch 22\ttrain_loss: 0.0266\tval_loss: 0.1757\tval_auroc: 0.9623\tval_avpr: 0.9964\n",
      "## Epoch 23\ttrain_loss: 0.0257\tval_loss: 0.1776\tval_auroc: 0.9623\tval_avpr: 0.9964\n",
      "## Epoch 24\ttrain_loss: 0.0259\tval_loss: 0.1864\tval_auroc: 0.9623\tval_avpr: 0.9964\n"
     ]
    },
    {
     "name": "stderr",
     "output_type": "stream",
     "text": [
      "generating training, validation splits...\n"
     ]
    },
    {
     "name": "stdout",
     "output_type": "stream",
     "text": [
      "## Epoch 25\ttrain_loss: 0.0243\tval_loss: 0.1744\tval_auroc: 0.9623\tval_avpr: 0.9964\n"
     ]
    },
    {
     "name": "stderr",
     "output_type": "stream",
     "text": [
      "100%|██████████| 461/461 [00:00<00:00, 3526.95it/s]\n",
      "featurizing_smiles, batch=1: 100%|██████████| 58/58 [00:00<00:00, 1053.32it/s]\n",
      "Casting to FP32: 100%|██████████| 58/58 [00:00<00:00, 17406.24it/s]\n",
      "100%|██████████| 1/1 [00:00<00:00, 10.26it/s]\n",
      "featurizing_smiles, batch=13: 100%|██████████| 31/31 [00:00<00:00, 121.69it/s]\n",
      "Casting to FP32: 100%|██████████| 403/403 [00:00<00:00, 17920.01it/s]\n",
      "100%|██████████| 5/5 [00:00<00:00,  7.31it/s]\n"
     ]
    },
    {
     "name": "stdout",
     "output_type": "stream",
     "text": [
      "## Epoch 1\ttrain_loss: 0.7779\tval_loss: 0.7495\tval_auroc: 0.6442\tval_avpr: 0.9455\n",
      "## Epoch 2\ttrain_loss: 0.6510\tval_loss: 0.6275\tval_auroc: 0.8814\tval_avpr: 0.9829\n",
      "## Epoch 3\ttrain_loss: 0.5298\tval_loss: 0.4950\tval_auroc: 0.9455\tval_avpr: 0.9936\n",
      "## Epoch 4\ttrain_loss: 0.4180\tval_loss: 0.4006\tval_auroc: 0.9391\tval_avpr: 0.9930\n",
      "## Epoch 5\ttrain_loss: 0.3246\tval_loss: 0.3175\tval_auroc: 0.9487\tval_avpr: 0.9940\n",
      "## Epoch 6\ttrain_loss: 0.2648\tval_loss: 0.2739\tval_auroc: 0.9519\tval_avpr: 0.9943\n",
      "## Epoch 7\ttrain_loss: 0.2018\tval_loss: 0.2416\tval_auroc: 0.9519\tval_avpr: 0.9942\n",
      "## Epoch 8\ttrain_loss: 0.1618\tval_loss: 0.2163\tval_auroc: 0.9423\tval_avpr: 0.9928\n",
      "## Epoch 9\ttrain_loss: 0.1331\tval_loss: 0.1958\tval_auroc: 0.9519\tval_avpr: 0.9942\n",
      "## Epoch 10\ttrain_loss: 0.1092\tval_loss: 0.1844\tval_auroc: 0.9295\tval_avpr: 0.9905\n",
      "## Epoch 11\ttrain_loss: 0.0894\tval_loss: 0.2112\tval_auroc: 0.9103\tval_avpr: 0.9874\n",
      "## Epoch 12\ttrain_loss: 0.0781\tval_loss: 0.1982\tval_auroc: 0.8974\tval_avpr: 0.9854\n",
      "## Epoch 13\ttrain_loss: 0.0619\tval_loss: 0.1800\tval_auroc: 0.9263\tval_avpr: 0.9902\n",
      "## Epoch 14\ttrain_loss: 0.0564\tval_loss: 0.1800\tval_auroc: 0.9135\tval_avpr: 0.9878\n",
      "## Epoch 15\ttrain_loss: 0.0500\tval_loss: 0.1837\tval_auroc: 0.9231\tval_avpr: 0.9898\n",
      "## Epoch 16\ttrain_loss: 0.0474\tval_loss: 0.1886\tval_auroc: 0.9231\tval_avpr: 0.9898\n",
      "## Epoch 17\ttrain_loss: 0.0362\tval_loss: 0.1895\tval_auroc: 0.9231\tval_avpr: 0.9898\n",
      "## Epoch 18\ttrain_loss: 0.0387\tval_loss: 0.1902\tval_auroc: 0.9167\tval_avpr: 0.9887\n",
      "## Epoch 19\ttrain_loss: 0.0356\tval_loss: 0.1948\tval_auroc: 0.9167\tval_avpr: 0.9884\n",
      "## Epoch 20\ttrain_loss: 0.0361\tval_loss: 0.1885\tval_auroc: 0.9103\tval_avpr: 0.9872\n",
      "## Epoch 21\ttrain_loss: 0.0300\tval_loss: 0.1934\tval_auroc: 0.9135\tval_avpr: 0.9881\n",
      "## Epoch 22\ttrain_loss: 0.0318\tval_loss: 0.1981\tval_auroc: 0.9167\tval_avpr: 0.9884\n",
      "## Epoch 23\ttrain_loss: 0.0321\tval_loss: 0.1950\tval_auroc: 0.9167\tval_avpr: 0.9884\n",
      "## Epoch 24\ttrain_loss: 0.0307\tval_loss: 0.1973\tval_auroc: 0.9167\tval_avpr: 0.9884\n"
     ]
    },
    {
     "name": "stderr",
     "output_type": "stream",
     "text": [
      "generating training, validation splits...\n"
     ]
    },
    {
     "name": "stdout",
     "output_type": "stream",
     "text": [
      "## Epoch 25\ttrain_loss: 0.0274\tval_loss: 0.1917\tval_auroc: 0.9167\tval_avpr: 0.9884\n"
     ]
    },
    {
     "name": "stderr",
     "output_type": "stream",
     "text": [
      "100%|██████████| 461/461 [00:00<00:00, 3531.64it/s]\n",
      "featurizing_smiles, batch=1: 100%|██████████| 58/58 [00:00<00:00, 875.24it/s]\n",
      "Casting to FP32: 100%|██████████| 58/58 [00:00<00:00, 16709.23it/s]\n",
      "100%|██████████| 1/1 [00:00<00:00, 10.53it/s]\n",
      "featurizing_smiles, batch=13: 100%|██████████| 31/31 [00:00<00:00, 122.53it/s]\n",
      "Casting to FP32: 100%|██████████| 403/403 [00:00<00:00, 9386.57it/s]\n",
      "100%|██████████| 5/5 [00:00<00:00,  5.23it/s]\n"
     ]
    },
    {
     "name": "stdout",
     "output_type": "stream",
     "text": [
      "## Epoch 1\ttrain_loss: 0.5018\tval_loss: 0.4939\tval_auroc: 0.6065\tval_avpr: 0.9578\n",
      "## Epoch 2\ttrain_loss: 0.4081\tval_loss: 0.4194\tval_auroc: 0.7917\tval_avpr: 0.9718\n",
      "## Epoch 3\ttrain_loss: 0.3300\tval_loss: 0.3498\tval_auroc: 0.7824\tval_avpr: 0.9699\n",
      "## Epoch 4\ttrain_loss: 0.2625\tval_loss: 0.2942\tval_auroc: 0.7778\tval_avpr: 0.9682\n",
      "## Epoch 5\ttrain_loss: 0.2120\tval_loss: 0.2513\tval_auroc: 0.8009\tval_avpr: 0.9754\n",
      "## Epoch 6\ttrain_loss: 0.1724\tval_loss: 0.2320\tval_auroc: 0.8287\tval_avpr: 0.9809\n",
      "## Epoch 7\ttrain_loss: 0.1437\tval_loss: 0.2055\tval_auroc: 0.8426\tval_avpr: 0.9834\n",
      "## Epoch 8\ttrain_loss: 0.1141\tval_loss: 0.2141\tval_auroc: 0.8380\tval_avpr: 0.9831\n",
      "## Epoch 9\ttrain_loss: 0.0895\tval_loss: 0.1971\tval_auroc: 0.8657\tval_avpr: 0.9867\n",
      "## Epoch 10\ttrain_loss: 0.0727\tval_loss: 0.1984\tval_auroc: 0.8889\tval_avpr: 0.9900\n",
      "## Epoch 11\ttrain_loss: 0.0630\tval_loss: 0.2111\tval_auroc: 0.8843\tval_avpr: 0.9895\n",
      "## Epoch 12\ttrain_loss: 0.0550\tval_loss: 0.1992\tval_auroc: 0.8935\tval_avpr: 0.9906\n",
      "## Epoch 13\ttrain_loss: 0.0416\tval_loss: 0.2032\tval_auroc: 0.8981\tval_avpr: 0.9913\n",
      "## Epoch 14\ttrain_loss: 0.0438\tval_loss: 0.2055\tval_auroc: 0.9074\tval_avpr: 0.9919\n",
      "## Epoch 15\ttrain_loss: 0.0301\tval_loss: 0.2002\tval_auroc: 0.9120\tval_avpr: 0.9928\n",
      "## Epoch 16\ttrain_loss: 0.0264\tval_loss: 0.2013\tval_auroc: 0.9167\tval_avpr: 0.9932\n",
      "## Epoch 17\ttrain_loss: 0.0274\tval_loss: 0.2118\tval_auroc: 0.9120\tval_avpr: 0.9928\n",
      "## Epoch 18\ttrain_loss: 0.0293\tval_loss: 0.2009\tval_auroc: 0.9213\tval_avpr: 0.9935\n",
      "## Epoch 19\ttrain_loss: 0.0241\tval_loss: 0.2029\tval_auroc: 0.9167\tval_avpr: 0.9931\n",
      "## Epoch 20\ttrain_loss: 0.0206\tval_loss: 0.2087\tval_auroc: 0.9120\tval_avpr: 0.9926\n",
      "## Epoch 21\ttrain_loss: 0.0233\tval_loss: 0.2090\tval_auroc: 0.9074\tval_avpr: 0.9919\n",
      "## Epoch 22\ttrain_loss: 0.0263\tval_loss: 0.2090\tval_auroc: 0.9028\tval_avpr: 0.9916\n",
      "## Epoch 23\ttrain_loss: 0.0193\tval_loss: 0.2005\tval_auroc: 0.9120\tval_avpr: 0.9926\n"
     ]
    },
    {
     "name": "stderr",
     "output_type": "stream",
     "text": [
      "generating training, validation splits...\n"
     ]
    },
    {
     "name": "stdout",
     "output_type": "stream",
     "text": [
      "## Epoch 24\ttrain_loss: 0.0190\tval_loss: 0.2027\tval_auroc: 0.9120\tval_avpr: 0.9926\n",
      "## Epoch 25\ttrain_loss: 0.0224\tval_loss: 0.2053\tval_auroc: 0.9120\tval_avpr: 0.9926\n"
     ]
    },
    {
     "name": "stderr",
     "output_type": "stream",
     "text": [
      "100%|██████████| 461/461 [00:00<00:00, 3530.42it/s]\n",
      "featurizing_smiles, batch=2: 100%|██████████| 32/32 [00:00<00:00, 512.59it/s]\n",
      "Casting to FP32: 100%|██████████| 64/64 [00:00<00:00, 17756.02it/s]\n",
      "100%|██████████| 1/1 [00:00<00:00, 11.72it/s]\n",
      "featurizing_smiles, batch=13: 31it [00:00, 121.11it/s]                        \n",
      "Casting to FP32: 100%|██████████| 397/397 [00:00<00:00, 15179.85it/s]\n",
      "100%|██████████| 4/4 [00:00<00:00,  6.89it/s]\n"
     ]
    },
    {
     "name": "stdout",
     "output_type": "stream",
     "text": [
      "## Epoch 1\ttrain_loss: 0.4073\tval_loss: 0.4200\tval_auroc: 0.6391\tval_avpr: 0.9206\n",
      "## Epoch 2\ttrain_loss: 0.3340\tval_loss: 0.3485\tval_auroc: 0.8747\tval_avpr: 0.9832\n",
      "## Epoch 3\ttrain_loss: 0.2812\tval_loss: 0.2936\tval_auroc: 0.8346\tval_avpr: 0.9760\n",
      "## Epoch 4\ttrain_loss: 0.2256\tval_loss: 0.2560\tval_auroc: 0.8571\tval_avpr: 0.9797\n",
      "## Epoch 5\ttrain_loss: 0.1839\tval_loss: 0.2322\tval_auroc: 0.8872\tval_avpr: 0.9845\n",
      "## Epoch 6\ttrain_loss: 0.1553\tval_loss: 0.2202\tval_auroc: 0.8997\tval_avpr: 0.9862\n",
      "## Epoch 7\ttrain_loss: 0.1257\tval_loss: 0.2168\tval_auroc: 0.9023\tval_avpr: 0.9866\n",
      "## Epoch 8\ttrain_loss: 0.1139\tval_loss: 0.2126\tval_auroc: 0.8897\tval_avpr: 0.9842\n",
      "## Epoch 9\ttrain_loss: 0.0866\tval_loss: 0.2145\tval_auroc: 0.8622\tval_avpr: 0.9774\n",
      "## Epoch 10\ttrain_loss: 0.0667\tval_loss: 0.2120\tval_auroc: 0.9123\tval_avpr: 0.9875\n",
      "## Epoch 11\ttrain_loss: 0.0523\tval_loss: 0.2135\tval_auroc: 0.8822\tval_avpr: 0.9829\n",
      "## Epoch 12\ttrain_loss: 0.0512\tval_loss: 0.2125\tval_auroc: 0.9073\tval_avpr: 0.9877\n",
      "## Epoch 13\ttrain_loss: 0.0447\tval_loss: 0.2200\tval_auroc: 0.8872\tval_avpr: 0.9826\n",
      "## Epoch 14\ttrain_loss: 0.0373\tval_loss: 0.2353\tval_auroc: 0.8797\tval_avpr: 0.9828\n",
      "## Epoch 15\ttrain_loss: 0.0299\tval_loss: 0.2268\tval_auroc: 0.8922\tval_avpr: 0.9852\n",
      "## Epoch 16\ttrain_loss: 0.0258\tval_loss: 0.2172\tval_auroc: 0.8997\tval_avpr: 0.9863\n",
      "## Epoch 17\ttrain_loss: 0.0225\tval_loss: 0.2339\tval_auroc: 0.8972\tval_avpr: 0.9856\n",
      "## Epoch 18\ttrain_loss: 0.0242\tval_loss: 0.2326\tval_auroc: 0.8772\tval_avpr: 0.9821\n",
      "## Epoch 19\ttrain_loss: 0.0196\tval_loss: 0.2353\tval_auroc: 0.8872\tval_avpr: 0.9832\n",
      "## Epoch 20\ttrain_loss: 0.0200\tval_loss: 0.2318\tval_auroc: 0.8822\tval_avpr: 0.9823\n",
      "## Epoch 21\ttrain_loss: 0.0189\tval_loss: 0.2332\tval_auroc: 0.8822\tval_avpr: 0.9825\n",
      "## Epoch 22\ttrain_loss: 0.0175\tval_loss: 0.2329\tval_auroc: 0.8872\tval_avpr: 0.9835\n",
      "## Epoch 23\ttrain_loss: 0.0193\tval_loss: 0.2358\tval_auroc: 0.8847\tval_avpr: 0.9829\n",
      "## Epoch 24\ttrain_loss: 0.0162\tval_loss: 0.2345\tval_auroc: 0.8897\tval_avpr: 0.9838\n",
      "## Epoch 25\ttrain_loss: 0.0135\tval_loss: 0.2344\tval_auroc: 0.8897\tval_avpr: 0.9838\n",
      "test_loss: 0.1978\n",
      "test_auroc: 0.9765\n",
      "test_avpr: 0.9928\n"
     ]
    }
   ],
   "source": [
    "from copy import deepcopy\n",
    "\n",
    "seeds = [1, 2, 3, 4, 5]\n",
    "\n",
    "best_models = []\n",
    "num_folds = 5\n",
    "\n",
    "for seed in seeds:\n",
    "    val_loader, train_loader = dataloader_factory(seed)\n",
    "    model, optimiser, lr_scheduler = model_factory()\n",
    "\n",
    "    best_epoch = {\"model\": None, \"result\": None}\n",
    "    for epoch in range(epochs):\n",
    "        model = train_one_epoch(model, optimiser, lr_scheduler, loss_fn, epoch)\n",
    "        val_loss, auroc, _ = evaluate(model, val_loader, loss_fn)\n",
    "\n",
    "        if best_epoch['model'] is None:\n",
    "            best_epoch['model'] = deepcopy(model)\n",
    "            best_epoch['result'] = auroc\n",
    "        else:\n",
    "            best_epoch['model'] = best_epoch['model'] if best_epoch['result'] <= val_loss else deepcopy(model)\n",
    "            best_epoch['result'] = best_epoch['result'] if best_epoch['result'] <= val_loss else val_loss \n",
    "\n",
    "    best_models.append(best_epoch['model'])\n",
    "\n",
    "test_loss, test_auroc, test_avpr = evaluate_ensemble(best_models, test_loader, loss_fn)\n",
    "print(\n",
    "    f\"test_loss: {test_loss:.4f}\\n\"\n",
    "    f\"test_auroc: {test_auroc:.4f}\\n\"\n",
    "    f\"test_avpr: {test_avpr:.4f}\"\n",
    ")"
   ]
  },
  {
   "cell_type": "markdown",
   "metadata": {},
   "source": [
    "As we can see, in less than 15s the ensemble was trained and reached performance of 0.9765 in AUROC on the test set. That's a decent improvement coming from 0.9658 that we got for a single model. More importantly, the ensemble is not senstitive to which part of the data is used for validation (because we train n models on n folds), and is less sensitive to the intialisation because we intialise n models getting somewhere close to an average performance. \n",
    "\n",
    "The results could be further improved by sweeping hyperparameters. Considering the low cost of fitting these tiny models, it would still be very fast. The results reported in the paper are slighly better than what we show here, thanks to sweeping that we performed for each task.  "
   ]
  }
 ],
 "metadata": {
  "kernelspec": {
   "display_name": "minimol",
   "language": "python",
   "name": "python3"
  },
  "language_info": {
   "codemirror_mode": {
    "name": "ipython",
    "version": 3
   },
   "file_extension": ".py",
   "mimetype": "text/x-python",
   "name": "python",
   "nbconvert_exporter": "python",
   "pygments_lexer": "ipython3",
   "version": "3.12.2"
  }
 },
 "nbformat": 4,
 "nbformat_minor": 2
}
