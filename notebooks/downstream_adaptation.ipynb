{
 "cells": [
  {
   "cell_type": "code",
   "execution_count": null,
   "metadata": {},
   "outputs": [],
   "source": [
    "%pip install PyTDC"
   ]
  },
  {
   "cell_type": "code",
   "execution_count": 1,
   "metadata": {},
   "outputs": [
    {
     "name": "stderr",
     "output_type": "stream",
     "text": [
      "Found local copy...\n"
     ]
    },
    {
     "name": "stdout",
     "output_type": "stream",
     "text": [
      "All 22 datasets:\n",
      "['caco2_wang', 'hia_hou', 'pgp_broccatelli', 'bioavailability_ma', 'lipophilicity_astrazeneca', 'solubility_aqsoldb', 'bbb_martins', 'ppbr_az', 'vdss_lombardo', 'cyp2d6_veith', 'cyp3a4_veith', 'cyp2c9_veith', 'cyp2d6_substrate_carbonmangels', 'cyp3a4_substrate_carbonmangels', 'cyp2c9_substrate_carbonmangels', 'half_life_obach', 'clearance_microsome_az', 'clearance_hepatocyte_az', 'herg', 'ames', 'dili', 'ld50_zhu']\n",
      "\n",
      "All mols in hia_hou:\n",
      "{'train_val':               Drug_ID                                             Drug  Y\n",
      "0         Acetanilide                                  CC(=O)Nc1ccccc1  1\n",
      "1       Acitretin.mol  COc1cc(C)c(/C=C/C(C)=C/C=C/C(C)=CC(=O)O)c(C)c1C  1\n",
      "2        Atenolol.mol               CC(C)NC[C@H](O)COc1ccc(CC(N)=O)cc1  1\n",
      "3       Ibuprofen.mol                   CC(C)Cc1ccc([C@H](C)C(=O)O)cc1  1\n",
      "4    Fenfluramine.mol                   CCNC[C@H](C)c1cccc(C(F)(F)F)c1  1\n",
      "..                ...                                              ... ..\n",
      "456     Meloxicam.mol      Cc1cnc(NC(=O)C2=C(O)c3ccccc3S(=O)(=O)N2C)s1  1\n",
      "457         Sudoxicam         CN1C(C(=O)Nc2nccs2)=C(O)c2ccccc2S1(=O)=O  1\n",
      "458    Papaverine.mol            COc1ccc(Cc2nccc3cc(OC)c(OC)cc23)cc1OC  1\n",
      "459   Pramipexole.mol                        CCCN[C@@H]1CCc2nc(N)sc2C1  1\n",
      "460  Praziquantel.mol       O=C(C1CCCCC1)N1CC(=O)N2CCc3ccccc3[C@@H]2C1  1\n",
      "\n",
      "[461 rows x 3 columns], 'test':                   Drug_ID                                               Drug  \\\n",
      "0           Trazodone.mol         O=c1n(CCCN2CCN(c3cccc(Cl)c3)CC2)nc2ccccn12   \n",
      "1            Lisuride.mol  CCN(CC)C(=O)N[C@H]1C=C2c3cccc4[nH]cc(c34)C[C@@...   \n",
      "2    Methylergonovine.mol  CC[C@H](CO)NC(=O)[C@H]1C=C2c3cccc4[nH]cc(c34)C...   \n",
      "3        Methysergide.mol  CC[C@H](CO)NC(=O)[C@H]1C=C2c3cccc4c3c(cn4C)C[C...   \n",
      "4         Moclobemide.mol                       O=C(NCCN1CCOCC1)c1ccc(Cl)cc1   \n",
      "..                    ...                                                ...   \n",
      "112             Dothiepin                   CN(C)CC/C=C1\\c2ccccc2CSc2ccccc21   \n",
      "113            Reproterol  Cn1c(=O)c2c(ncn2CCCNC[C@@H](O)c2cc(O)cc(O)c2)n...   \n",
      "114            Bornaprine  CCN(CC)CCCOC(=O)[C@@]1(c2ccccc2)C[C@@H]2CC[C@@...   \n",
      "115          Methsuximide                    CN1C(=O)C[C@@](C)(c2ccccc2)C1=O   \n",
      "116             Ketazolam  CC1=CC(=O)N2CC(=O)N(C)c3ccc(Cl)cc3[C@]2(c2cccc...   \n",
      "\n",
      "     Y  \n",
      "0    1  \n",
      "1    1  \n",
      "2    1  \n",
      "3    1  \n",
      "4    1  \n",
      "..  ..  \n",
      "112  1  \n",
      "113  1  \n",
      "114  1  \n",
      "115  1  \n",
      "116  1  \n",
      "\n",
      "[117 rows x 3 columns], 'name': 'hia_hou'}\n"
     ]
    }
   ],
   "source": [
    "# Get a dataset from TDC ADMET\n",
    "from tdc.benchmark_group import admet_group\n",
    "DATASET_NAME = 'hia_hou'\n",
    "admet = admet_group(path=\"admet-data/\")\n",
    "mols = admet.get(DATASET_NAME)\n",
    "print(f\"All 22 datasets:\\n{admet.dataset_names}\\n\")\n",
    "print(f\"All mols in {DATASET_NAME}:\\n{mols}\")"
   ]
  },
  {
   "cell_type": "code",
   "execution_count": 2,
   "metadata": {},
   "outputs": [],
   "source": [
    "# Import the model\n",
    "from minimol import Minimol\n",
    "\n",
    "model = Minimol()"
   ]
  },
  {
   "cell_type": "code",
   "execution_count": 3,
   "metadata": {},
   "outputs": [
    {
     "data": {
      "application/vnd.jupyter.widget-view+json": {
       "model_id": "aea02a219891406cb8a9450989c5c833",
       "version_major": 2,
       "version_minor": 0
      },
      "text/plain": [
       "featurizing_smiles, batch=15:   0%|          | 0/30 [00:00<?, ?it/s]"
      ]
     },
     "metadata": {},
     "output_type": "display_data"
    },
    {
     "name": "stderr",
     "output_type": "stream",
     "text": [
      "Casting to FP32: 100%|██████████| 461/461 [00:00<00:00, 20219.11it/s]\n",
      "100%|██████████| 5/5 [00:00<00:00,  5.90it/s]\n"
     ]
    },
    {
     "data": {
      "application/vnd.jupyter.widget-view+json": {
       "model_id": "ba2e57c0df4a48299b5b4142daee4831",
       "version_major": 2,
       "version_minor": 0
      },
      "text/plain": [
       "featurizing_smiles, batch=3:   0%|          | 0/39 [00:00<?, ?it/s]"
      ]
     },
     "metadata": {},
     "output_type": "display_data"
    },
    {
     "name": "stderr",
     "output_type": "stream",
     "text": [
      "Casting to FP32: 100%|██████████| 117/117 [00:00<00:00, 14197.82it/s]\n",
      "Casting to FP32: 100%|██████████| 117/117 [00:00<00:00, 14197.82it/s]\n",
      "100%|██████████| 2/2 [00:00<00:00,  7.05it/s]\n"
     ]
    }
   ],
   "source": [
    "# Split the dataset\n",
    "mols_train_val = mols['train_val']\n",
    "mols_test = mols['test']\n",
    "\n",
    "# Embed the molecules using MiniMol and add a new column to the dataframe\n",
    "mols_train_val['Embedding'] = model(mols_train_val['Drug'])\n",
    "mols_test['Embedding'] = model(mols_test['Drug'])\n"
   ]
  }
 ],
 "metadata": {
  "kernelspec": {
   "display_name": "minimol",
   "language": "python",
   "name": "python3"
  },
  "language_info": {
   "codemirror_mode": {
    "name": "ipython",
    "version": 3
   },
   "file_extension": ".py",
   "mimetype": "text/x-python",
   "name": "python",
   "nbconvert_exporter": "python",
   "pygments_lexer": "ipython3",
   "version": "3.12.4"
  }
 },
 "nbformat": 4,
 "nbformat_minor": 2
}
