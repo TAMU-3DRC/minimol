{
 "cells": [
  {
   "cell_type": "markdown",
   "metadata": {},
   "source": [
    "# Downstream adaption with MiniMol\n",
    "\n",
    "This example shows how MiniMol can featurise small molecules that will then serve as an input to another model trained on a small downstream dataset from TDC ADMET. This allows to transfer the knowledge from the pre-trained MiniMol to another task. \n",
    "\n",
    "Before we start, let's make sure that the TDC package is installed in the environment. It takes a while, that's why we don't include it in the dependencies."
   ]
  },
  {
   "cell_type": "code",
   "execution_count": 1,
   "metadata": {},
   "outputs": [],
   "source": [
    "%pip install PyTDC"
   ]
  },
  {
   "cell_type": "markdown",
   "metadata": {},
   "source": [
    "## Step 1: Getting the data\n",
    "Next, we will build a predictor for the `HIA Hou` dataset, one of the binary classification benchmarks from TDC ADMET group. HIA stands for human intestinal absorption (HIA), which is related to the ability to absorb a substance through the gastrointestinal system into the bloodstream of the human body.\n",
    "\n",
    "We then split the data based on molecular scaffolds into training, validation and test sets. "
   ]
  },
  {
   "cell_type": "code",
   "execution_count": 2,
   "metadata": {},
   "outputs": [
    {
     "name": "stderr",
     "output_type": "stream",
     "text": [
      "Found local copy...\n",
      "generating training, validation splits...\n",
      "100%|██████████| 461/461 [00:00<00:00, 3408.78it/s]\n"
     ]
    }
   ],
   "source": [
    "from tdc.benchmark_group import admet_group\n",
    "\n",
    "DATASET_NAME = 'HIA_Hou'\n",
    "\n",
    "admet = admet_group(path=\"admet-data/\")\n",
    "\n",
    "mols_test = admet.get(DATASET_NAME)['test']\n",
    "mols_train, mols_val = admet.get_train_valid_split(benchmark=DATASET_NAME, split_type='scaffold', seed=42)"
   ]
  },
  {
   "cell_type": "code",
   "execution_count": 3,
   "metadata": {},
   "outputs": [
    {
     "name": "stdout",
     "output_type": "stream",
     "text": [
      "Dataset - HIA_Hou\n",
      "\n",
      "Val split (58 mols): \n",
      "                 Drug_ID                                               Drug  Y\n",
      "0         Atracurium.mol  COc1ccc(C[C@H]2c3cc(OC)c(OC)cc3CC[N@@+]2(C)CCC...  0\n",
      "1  Succinylsulfathiazole          O=C(O)CCC(=O)Nc1ccc(S(=O)(=O)Nc2nccs2)cc1  0\n",
      "2            Ticarcillin  CC1(C)S[C@H]2[C@@H](NC(=O)[C@@H](C(=O)O)c3ccsc...  0\n",
      "3          Raffinose.mol  OC[C@@H]1O[C@@H](OC[C@@H]2O[C@@H](O[C@]3(CO)O[...  0\n",
      "4          Triamcinolone  C[C@@]12C=CC(=O)C=C1CC[C@@H]1[C@H]3C[C@@H](O)[...  1\n",
      "\n",
      "Test split (117 mols): \n",
      "                Drug_ID                                               Drug  Y\n",
      "0         Trazodone.mol         O=c1n(CCCN2CCN(c3cccc(Cl)c3)CC2)nc2ccccn12  1\n",
      "1          Lisuride.mol  CCN(CC)C(=O)N[C@H]1C=C2c3cccc4[nH]cc(c34)C[C@@...  1\n",
      "2  Methylergonovine.mol  CC[C@H](CO)NC(=O)[C@H]1C=C2c3cccc4[nH]cc(c34)C...  1\n",
      "3      Methysergide.mol  CC[C@H](CO)NC(=O)[C@H]1C=C2c3cccc4c3c(cn4C)C[C...  1\n",
      "4       Moclobemide.mol                       O=C(NCCN1CCOCC1)c1ccc(Cl)cc1  1\n",
      "\n",
      "Train split (403 mols): \n",
      "           Drug_ID                                               Drug  Y\n",
      "0        Guanadrel                      N=C(N)NC[C@@H]1COC2(CCCCC2)O1  1\n",
      "1      Cefmetazole  CO[C@@]1(NC(=O)CSCC#N)C(=O)N2C(C(=O)O)=C(CSc3n...  0\n",
      "2   Zonisamide.mol                           NS(=O)(=O)Cc1noc2ccccc12  1\n",
      "3   Furosemide.mol            NS(=O)(=O)c1cc(Cl)cc(NCc2ccco2)c1C(=O)O  1\n",
      "4  Telmisartan.mol  CCCc1nc2c(n1Cc1ccc(-c3ccccc3C(=O)O)cc1)=C[C@H]...  1\n",
      "\n"
     ]
    }
   ],
   "source": [
    "print(f\"Dataset - {DATASET_NAME}\\n\")\n",
    "print(f\"Val split ({len(mols_val)} mols): \\n{mols_val.head()}\\n\")\n",
    "print(f\"Test split ({len(mols_test)} mols): \\n{mols_test.head()}\\n\")\n",
    "print(f\"Train split ({len(mols_train)} mols): \\n{mols_train.head()}\\n\")"
   ]
  },
  {
   "cell_type": "markdown",
   "metadata": {},
   "source": [
    "## Step 2: Generating molecular fingerprints\n",
    "Now that we have the splits, we will use MiniMol to embed all molecules. The embedding will be added as an extra column in the dataframe returned by TDC."
   ]
  },
  {
   "cell_type": "code",
   "execution_count": 4,
   "metadata": {},
   "outputs": [],
   "source": [
    "from minimol import Minimol\n",
    "\n",
    "featuriser = Minimol()"
   ]
  },
  {
   "cell_type": "code",
   "execution_count": 5,
   "metadata": {},
   "outputs": [
    {
     "name": "stderr",
     "output_type": "stream",
     "text": [
      "featurizing_smiles, batch=1: 100%|██████████| 58/58 [00:05<00:00, 10.36it/s]\n",
      "Casting to FP32: 100%|██████████| 58/58 [00:00<00:00, 8542.37it/s]\n",
      "100%|██████████| 1/1 [00:00<00:00,  4.75it/s]\n",
      "featurizing_smiles, batch=3: 100%|██████████| 39/39 [00:00<00:00, 384.38it/s]\n",
      "Casting to FP32: 100%|██████████| 117/117 [00:00<00:00, 11496.90it/s]\n",
      "100%|██████████| 2/2 [00:00<00:00,  7.36it/s]\n",
      "featurizing_smiles, batch=13: 100%|██████████| 31/31 [00:00<00:00, 119.64it/s]\n",
      "Casting to FP32: 100%|██████████| 403/403 [00:00<00:00, 18593.16it/s]\n",
      "100%|██████████| 5/5 [00:00<00:00,  5.76it/s]\n"
     ]
    }
   ],
   "source": [
    "mols_val['Embedding'] = featuriser(list(mols_val['Drug']))\n",
    "mols_test['Embedding'] = featuriser(list(mols_test['Drug']))\n",
    "mols_train['Embedding'] = featuriser(list(mols_train['Drug']))"
   ]
  },
  {
   "cell_type": "markdown",
   "metadata": {},
   "source": [
    "The model is small, so it took us 6.6 seconds to generate the embeddings for almost 600 molecules. Here is a preview after the new column has been added:"
   ]
  },
  {
   "cell_type": "code",
   "execution_count": 6,
   "metadata": {},
   "outputs": [
    {
     "name": "stdout",
     "output_type": "stream",
     "text": [
      "           Drug_ID                                               Drug  Y  \\\n",
      "0        Guanadrel                      N=C(N)NC[C@@H]1COC2(CCCCC2)O1  1   \n",
      "1      Cefmetazole  CO[C@@]1(NC(=O)CSCC#N)C(=O)N2C(C(=O)O)=C(CSc3n...  0   \n",
      "2   Zonisamide.mol                           NS(=O)(=O)Cc1noc2ccccc12  1   \n",
      "3   Furosemide.mol            NS(=O)(=O)c1cc(Cl)cc(NCc2ccco2)c1C(=O)O  1   \n",
      "4  Telmisartan.mol  CCCc1nc2c(n1Cc1ccc(-c3ccccc3C(=O)O)cc1)=C[C@H]...  1   \n",
      "\n",
      "                                           Embedding  \n",
      "0  [0.0, 0.5511834, 0.8979431, 0.19619876, 0.7452...  \n",
      "1  [0.0, 0.0, 0.7467004, 0.17419952, 0.11563285, ...  \n",
      "2  [0.0, 1.0714495, 1.5657394, 0.0, 1.3655123, 0....  \n",
      "3  [0.0, 0.0, 0.40348637, 0.0, 0.0, 0.8121755, 0....  \n",
      "4  [0.08408047, 0.0, 0.0, 0.0, 0.0, 1.8257095, 0....  \n"
     ]
    }
   ],
   "source": [
    "print(mols_train.head())"
   ]
  },
  {
   "cell_type": "markdown",
   "metadata": {},
   "source": [
    "## Step 3: Training a model\n",
    "Now that the molecules are featurised leverging the representation MiniMol learned during its pre-training, we will set up a training and evaluation loop of a simple Multi-Layer Perceptron model using PyTorch.\n",
    "\n",
    "Let's start by defining a new class for the dataset and then creating a separate dataloader for each split."
   ]
  },
  {
   "cell_type": "code",
   "execution_count": 7,
   "metadata": {},
   "outputs": [],
   "source": [
    "from torch.utils.data import DataLoader, Dataset\n",
    "    \n",
    "class AdmetDataset(Dataset):\n",
    "    def __init__(self, samples):\n",
    "        self.samples = samples['Embedding'].tolist()\n",
    "        self.targets = [float(target) for target in samples['Y'].tolist()]\n",
    "\n",
    "    def __len__(self):\n",
    "        return len(self.samples)\n",
    "\n",
    "    def __getitem__(self, idx):\n",
    "        sample = torch.tensor(self.samples[idx])\n",
    "        target = torch.tensor(self.targets[idx])\n",
    "        return sample, target\n",
    "\n",
    "val_loader = DataLoader(AdmetDataset(mols_val), batch_size=128, shuffle=False)\n",
    "test_loader = DataLoader(AdmetDataset(mols_test), batch_size=128, shuffle=False)\n",
    "train_loader = DataLoader(AdmetDataset(mols_train), batch_size=32, shuffle=True)"
   ]
  },
  {
   "cell_type": "markdown",
   "metadata": {},
   "source": [
    "Our model is a simple 3-layer perceptron with batch normalisation and dropout. We also add a residual connection that before the last layer concatates the the input features with the output from the second to last layer."
   ]
  },
  {
   "cell_type": "code",
   "execution_count": 8,
   "metadata": {},
   "outputs": [],
   "source": [
    "import torch.nn as nn\n",
    "import torch.nn.functional as F\n",
    "\n",
    "\n",
    "class TaskHead(nn.Module):\n",
    "    def __init__(self):\n",
    "        super(TaskHead, self).__init__()\n",
    "        self.dense1 = nn.Linear(512, 512)\n",
    "        self.dense2 = nn.Linear(512, 512)\n",
    "        self.dense3 = nn.Linear(512, 512)\n",
    "        self.final_dense = nn.Linear(1024, 1)\n",
    "        self.bn1 = nn.BatchNorm1d(512)\n",
    "        self.bn2 = nn.BatchNorm1d(512)\n",
    "        self.bn3 = nn.BatchNorm1d(512)\n",
    "        self.dropout = nn.Dropout(0.10)\n",
    "\n",
    "    def forward(self, x):\n",
    "        original_x = x\n",
    "\n",
    "        x = self.dense1(x)\n",
    "        x = self.bn1(x)\n",
    "        x = F.relu(x)\n",
    "        x = self.dropout(x)\n",
    "\n",
    "        x = self.dense2(x)\n",
    "        x = self.bn2(x)\n",
    "        x = F.relu(x)\n",
    "        x = self.dropout(x)\n",
    "\n",
    "        x = self.dense3(x)\n",
    "        x = self.bn3(x)\n",
    "        x = F.relu(x)\n",
    "        x = self.dropout(x)\n",
    "\n",
    "        x = torch.cat((x, original_x), dim=1)\n",
    "        x = self.final_dense(x)\n",
    "        \n",
    "        return x"
   ]
  },
  {
   "cell_type": "markdown",
   "metadata": {},
   "source": [
    "Below we declare the basic hyperparamters, optimiser, loss function and learning rate scheduler. We build a model factory that allows us to instatiate a fresh copy of everything, which will become useful later."
   ]
  },
  {
   "cell_type": "code",
   "execution_count": 44,
   "metadata": {},
   "outputs": [],
   "source": [
    "import torch.optim as optim\n",
    "from torch.optim.lr_scheduler import CosineAnnealingLR\n",
    "\n",
    "lr = 0.0003\n",
    "epochs = 25\n",
    "warmup = 5\n",
    "\n",
    "loss_fn = nn.BCELoss()\n",
    "\n",
    "def model_factory():\n",
    "    model = TaskHead()\n",
    "    optimiser = optim.Adam(model.parameters(), lr=lr, weight_decay=0.0001)\n",
    "    lr_scheduler = CosineAnnealingLR(optimiser, T_max=epochs, eta_min=0)\n",
    "    return model, optimiser, lr_scheduler"
   ]
  },
  {
   "cell_type": "markdown",
   "metadata": {},
   "source": [
    "For evaluation we will use both AUROC and Average Precision metrics. The reported loss would be an average across all samples in the epoch."
   ]
  },
  {
   "cell_type": "code",
   "execution_count": 45,
   "metadata": {},
   "outputs": [],
   "source": [
    "import torch\n",
    "from sklearn.metrics import roc_auc_score, average_precision_score\n",
    "\n",
    "def evaluate(predictor, dataloader, loss_fn):\n",
    "    predictor.eval()\n",
    "    total_loss = 0\n",
    "    all_probs = []\n",
    "    all_targets = []\n",
    "\n",
    "    with torch.no_grad():\n",
    "        for inputs, targets in dataloader:\n",
    "            probs = F.sigmoid(predictor(inputs).squeeze())\n",
    "            loss = loss_fn(probs, targets)\n",
    "            total_loss += loss.item()\n",
    "            all_probs.extend(probs.tolist())\n",
    "            all_targets.extend(targets.tolist())\n",
    "\n",
    "    loss = total_loss / len(all_probs)\n",
    "    \n",
    "    return (\n",
    "        loss,\n",
    "        roc_auc_score(all_targets, all_probs),\n",
    "        average_precision_score(all_targets, all_probs)\n",
    "    )"
   ]
  },
  {
   "cell_type": "markdown",
   "metadata": {},
   "source": [
    "Training is a rather standard boilerplate loop: "
   ]
  },
  {
   "cell_type": "code",
   "execution_count": 46,
   "metadata": {},
   "outputs": [],
   "source": [
    "def train_one_epoch(predictor, train_loader, optimiser, lr_scheduler, loss_fn, epoch, verbose=True):\n",
    "    predictor.train()        \n",
    "    train_loss = 0\n",
    "    \n",
    "    lr_scheduler.step(epoch)\n",
    "    for i, (inputs, targets) in enumerate(train_loader):\n",
    "        optimiser.zero_grad()\n",
    "        probs = torch.sigmoid(predictor(inputs).squeeze())\n",
    "        loss = loss_fn(probs, targets)\n",
    "        loss.backward()\n",
    "        optimiser.step()\n",
    "        train_loss += loss.item()\n",
    "\n",
    "    train_loss /= (len(train_loader) * 32)\n",
    "\n",
    "    val_loss, auroc, avpr = evaluate(predictor, val_loader, loss_fn)\n",
    "\n",
    "    if verbose:\n",
    "        print(\n",
    "            f\"## Epoch {epoch+1}\\t\"\n",
    "            f\"train_loss: {train_loss:.4f}\\t\"\n",
    "            f\"val_loss: {val_loss:.4f}\\t\"\n",
    "            f\"val_auroc: {auroc:.4f}\\t\"\n",
    "            f\"val_avpr: {avpr:.4f}\"\n",
    "        )\n",
    "    return predictor"
   ]
  },
  {
   "cell_type": "markdown",
   "metadata": {},
   "source": [
    "And now, let's see how good our model gets after training... 🚀"
   ]
  },
  {
   "cell_type": "code",
   "execution_count": 47,
   "metadata": {},
   "outputs": [
    {
     "name": "stdout",
     "output_type": "stream",
     "text": [
      "## Epoch 0\ttrain_loss: ------\tval_loss: 0.0116\tval_auroc: 0.4110\tval_avpr: 0.8551\n",
      "## Epoch 1\ttrain_loss: 0.0228\tval_loss: 0.0090\tval_auroc: 0.5313\tval_avpr: 0.9012\n",
      "## Epoch 2\ttrain_loss: 0.0119\tval_loss: 0.0062\tval_auroc: 0.7820\tval_avpr: 0.9634\n",
      "## Epoch 3\ttrain_loss: 0.0075\tval_loss: 0.0044\tval_auroc: 0.8722\tval_avpr: 0.9822\n",
      "## Epoch 4\ttrain_loss: 0.0049\tval_loss: 0.0037\tval_auroc: 0.8571\tval_avpr: 0.9784\n",
      "## Epoch 5\ttrain_loss: 0.0038\tval_loss: 0.0035\tval_auroc: 0.7970\tval_avpr: 0.9670\n",
      "## Epoch 6\ttrain_loss: 0.0027\tval_loss: 0.0034\tval_auroc: 0.8546\tval_avpr: 0.9769\n",
      "## Epoch 7\ttrain_loss: 0.0024\tval_loss: 0.0032\tval_auroc: 0.8571\tval_avpr: 0.9773\n",
      "## Epoch 8\ttrain_loss: 0.0020\tval_loss: 0.0034\tval_auroc: 0.8271\tval_avpr: 0.9732\n",
      "## Epoch 9\ttrain_loss: 0.0014\tval_loss: 0.0032\tval_auroc: 0.8521\tval_avpr: 0.9775\n",
      "## Epoch 10\ttrain_loss: 0.0015\tval_loss: 0.0032\tval_auroc: 0.8672\tval_avpr: 0.9794\n",
      "## Epoch 11\ttrain_loss: 0.0014\tval_loss: 0.0033\tval_auroc: 0.8496\tval_avpr: 0.9759\n",
      "## Epoch 12\ttrain_loss: 0.0014\tval_loss: 0.0033\tval_auroc: 0.8195\tval_avpr: 0.9706\n",
      "## Epoch 13\ttrain_loss: 0.0010\tval_loss: 0.0031\tval_auroc: 0.8622\tval_avpr: 0.9792\n",
      "## Epoch 14\ttrain_loss: 0.0009\tval_loss: 0.0031\tval_auroc: 0.8647\tval_avpr: 0.9795\n",
      "## Epoch 15\ttrain_loss: 0.0008\tval_loss: 0.0031\tval_auroc: 0.8672\tval_avpr: 0.9797\n",
      "## Epoch 16\ttrain_loss: 0.0010\tval_loss: 0.0031\tval_auroc: 0.8672\tval_avpr: 0.9799\n",
      "## Epoch 17\ttrain_loss: 0.0008\tval_loss: 0.0031\tval_auroc: 0.8622\tval_avpr: 0.9796\n",
      "## Epoch 18\ttrain_loss: 0.0008\tval_loss: 0.0031\tval_auroc: 0.8697\tval_avpr: 0.9806\n",
      "## Epoch 19\ttrain_loss: 0.0007\tval_loss: 0.0031\tval_auroc: 0.8697\tval_avpr: 0.9803\n",
      "## Epoch 20\ttrain_loss: 0.0008\tval_loss: 0.0032\tval_auroc: 0.8697\tval_avpr: 0.9804\n",
      "## Epoch 21\ttrain_loss: 0.0007\tval_loss: 0.0031\tval_auroc: 0.8672\tval_avpr: 0.9799\n",
      "## Epoch 22\ttrain_loss: 0.0007\tval_loss: 0.0031\tval_auroc: 0.8647\tval_avpr: 0.9795\n",
      "## Epoch 23\ttrain_loss: 0.0007\tval_loss: 0.0031\tval_auroc: 0.8672\tval_avpr: 0.9799\n",
      "## Epoch 24\ttrain_loss: 0.0007\tval_loss: 0.0031\tval_auroc: 0.8672\tval_avpr: 0.9800\n",
      "## Epoch 25\ttrain_loss: 0.0008\tval_loss: 0.0031\tval_auroc: 0.8622\tval_avpr: 0.9792\n",
      "test_loss: 0.0017\n",
      "test_auroc: 0.9683\n",
      "test_avpr: 0.9906\n"
     ]
    }
   ],
   "source": [
    "model, optimiser, lr_scheduler = model_factory()\n",
    "\n",
    "val_loss, val_auroc, val_avpr = evaluate(model, val_loader, loss_fn)\n",
    "print(\n",
    "    f\"## Epoch 0\\t\"\n",
    "    f\"train_loss: ------\\t\"\n",
    "    f\"val_loss: {val_loss:.4f}\\t\"\n",
    "    f\"val_auroc: {val_auroc:.4f}\\t\"\n",
    "    f\"val_avpr: {val_avpr:.4f}\"\n",
    ")\n",
    "\n",
    "for epoch in range(epochs):\n",
    "    model = train_one_epoch(model, train_loader, optimiser, lr_scheduler, loss_fn, epoch)\n",
    "\n",
    "test_loss, test_auroc, test_avpr = evaluate(model, test_loader, loss_fn)\n",
    "print(\n",
    "    f\"test_loss: {test_loss:.4f}\\n\"\n",
    "    f\"test_auroc: {test_auroc:.4f}\\n\"\n",
    "    f\"test_avpr: {test_avpr:.4f}\"\n",
    ")"
   ]
  },
  {
   "cell_type": "markdown",
   "metadata": {},
   "source": [
    "The model trained in just 1.4s, reaching AUROC on the test set of 0.9683. Pretty good!"
   ]
  },
  {
   "cell_type": "markdown",
   "metadata": {},
   "source": [
    "## Step 4: Improvements\n",
    "\n",
    "The result can be further improved. One problem is that the accuracy is quite sensitive to both the train-val splitting (reminder - we use scaffold splitting strategy) and the weight initialisation. Let's visualise the distribution by training a few models:"
   ]
  },
  {
   "cell_type": "code",
   "execution_count": 48,
   "metadata": {},
   "outputs": [],
   "source": [
    "def dataloader_factory(seed):\n",
    "    mols_train, mols_val = admet.get_train_valid_split(benchmark=DATASET_NAME, split_type='scaffold', seed=seed)\n",
    "\n",
    "    mols_val['Embedding'] = featuriser(list(mols_val['Drug']))\n",
    "    mols_train['Embedding'] = featuriser(list(mols_train['Drug']))\n",
    "\n",
    "    val_loader = DataLoader(AdmetDataset(mols_val), batch_size=128, shuffle=False)\n",
    "    train_loader = DataLoader(AdmetDataset(mols_train), batch_size=32, shuffle=True)\n",
    "\n",
    "    return val_loader, train_loader"
   ]
  },
  {
   "cell_type": "code",
   "execution_count": 53,
   "metadata": {},
   "outputs": [
    {
     "name": "stderr",
     "output_type": "stream",
     "text": [
      "generating training, validation splits...\n",
      "100%|██████████| 461/461 [00:00<00:00, 3646.92it/s]\n",
      "featurizing_smiles, batch=1: 100%|██████████| 58/58 [00:00<00:00, 774.12it/s]\n",
      "Casting to FP32: 100%|██████████| 58/58 [00:00<00:00, 13845.74it/s]\n",
      "100%|██████████| 1/1 [00:00<00:00,  7.81it/s]\n",
      "featurizing_smiles, batch=13: 100%|██████████| 31/31 [00:00<00:00, 118.93it/s]\n",
      "Casting to FP32: 100%|██████████| 403/403 [00:00<00:00, 14905.55it/s]\n",
      "100%|██████████| 5/5 [00:00<00:00,  6.19it/s]\n"
     ]
    },
    {
     "data": {
      "image/png": "[encoded data removed]",
      "text/plain": [
       "<Figure size 640x480 with 1 Axes>"
      ]
     },
     "metadata": {},
     "output_type": "display_data"
    }
   ],
   "source": [
    "import matplotlib.pyplot as plt\n",
    "\n",
    "results = []\n",
    "repeats = 50\n",
    "val_loader, train_loader = dataloader_factory(42)\n",
    "\n",
    "for _ in range(repeats):\n",
    "    model, optimiser, lr_scheduler = model_factory()\n",
    "    for epoch in range(epochs):\n",
    "        model = train_one_epoch(model, train_loader, optimiser, lr_scheduler, loss_fn, epoch, verbose=False)\n",
    "    _, auroc, _ = evaluate(model, val_loader, loss_fn)\n",
    "    results.append(auroc)\n",
    "\n",
    "plt.hist(results, bins=12)\n",
    "plt.xlabel('AUROC')\n",
    "plt.ylabel('Frequency')\n",
    "plt.title('Distribution of AUROC results')\n",
    "plt.show()"
   ]
  },
  {
   "cell_type": "markdown",
   "metadata": {},
   "source": [
    "To mitigate the problem, we adapt two techniques:\n",
    "\n",
    "- Ensembling models trained on different folds of train-val data. Since the training is so fast, fitting a few addtional models is not a big deal. The train-val splitting method is provided by TDC.\n",
    "\n",
    "- Rather than choosing the model at the last epoch, we will use best validation loss to decide which one to choose.\n",
    "\n",
    "Below we implement a method that create a new training and validation dataloader for each fold, and also a method for ensemble-based evaluationm, where probabiltiies for each predition are averaged across all models in the ensemble."
   ]
  },
  {
   "cell_type": "code",
   "execution_count": 50,
   "metadata": {},
   "outputs": [],
   "source": [
    "def evaluate_ensemble(predictors, dataloader, loss_fn):\n",
    "    total_loss = 0\n",
    "    all_probs = []\n",
    "    all_targets = []\n",
    "\n",
    "    with torch.no_grad():\n",
    "        \n",
    "        for inputs, targets in dataloader:\n",
    "            model_outputs = [predictor(inputs).squeeze() for predictor in predictors]\n",
    "            averaged_output = torch.sigmoid(torch.mean(torch.stack(model_outputs), dim=0))\n",
    "\n",
    "            loss = loss_fn(averaged_output, targets)\n",
    "            total_loss += loss.item()\n",
    "\n",
    "            all_probs.extend(averaged_output.tolist())\n",
    "            all_targets.extend(targets.tolist())\n",
    "\n",
    "    loss = total_loss / len(all_probs)\n",
    "    return loss, roc_auc_score(all_targets, all_probs), average_precision_score(all_targets, all_probs)"
   ]
  },
  {
   "cell_type": "markdown",
   "metadata": {},
   "source": [
    "Finally, let's see how much better our model gets!"
   ]
  },
  {
   "cell_type": "code",
   "execution_count": 52,
   "metadata": {},
   "outputs": [
    {
     "name": "stderr",
     "output_type": "stream",
     "text": [
      "generating training, validation splits...\n",
      "100%|██████████| 461/461 [00:00<00:00, 3212.96it/s]\n",
      "featurizing_smiles, batch=1: 100%|██████████| 58/58 [00:00<00:00, 906.63it/s]\n",
      "Casting to FP32: 100%|██████████| 58/58 [00:00<00:00, 10697.40it/s]\n",
      "100%|██████████| 1/1 [00:00<00:00, 10.39it/s]\n",
      "featurizing_smiles, batch=13: 100%|██████████| 31/31 [00:00<00:00, 126.53it/s]\n",
      "Casting to FP32: 100%|██████████| 403/403 [00:00<00:00, 9506.45it/s]\n",
      "100%|██████████| 5/5 [00:00<00:00,  6.72it/s]\n"
     ]
    },
    {
     "name": "stdout",
     "output_type": "stream",
     "text": [
      "## Epoch 1\ttrain_loss: 0.0137\tval_loss: 0.0083\tval_auroc: 0.6162\tval_avpr: 0.9296\n",
      "## Epoch 2\ttrain_loss: 0.0078\tval_loss: 0.0056\tval_auroc: 0.8796\tval_avpr: 0.9819\n",
      "## Epoch 3\ttrain_loss: 0.0052\tval_loss: 0.0040\tval_auroc: 0.9300\tval_avpr: 0.9900\n",
      "## Epoch 4\ttrain_loss: 0.0037\tval_loss: 0.0034\tval_auroc: 0.9552\tval_avpr: 0.9938\n",
      "## Epoch 5\ttrain_loss: 0.0028\tval_loss: 0.0031\tval_auroc: 0.9636\tval_avpr: 0.9951\n",
      "## Epoch 6\ttrain_loss: 0.0022\tval_loss: 0.0028\tval_auroc: 0.9692\tval_avpr: 0.9959\n",
      "## Epoch 7\ttrain_loss: 0.0014\tval_loss: 0.0028\tval_auroc: 0.9720\tval_avpr: 0.9963\n",
      "## Epoch 8\ttrain_loss: 0.0015\tval_loss: 0.0028\tval_auroc: 0.9748\tval_avpr: 0.9967\n",
      "## Epoch 9\ttrain_loss: 0.0012\tval_loss: 0.0029\tval_auroc: 0.9664\tval_avpr: 0.9955\n",
      "## Epoch 10\ttrain_loss: 0.0009\tval_loss: 0.0028\tval_auroc: 0.9692\tval_avpr: 0.9958\n",
      "## Epoch 11\ttrain_loss: 0.0009\tval_loss: 0.0026\tval_auroc: 0.9748\tval_avpr: 0.9966\n",
      "## Epoch 12\ttrain_loss: 0.0007\tval_loss: 0.0026\tval_auroc: 0.9748\tval_avpr: 0.9966\n",
      "## Epoch 13\ttrain_loss: 0.0007\tval_loss: 0.0025\tval_auroc: 0.9748\tval_avpr: 0.9966\n",
      "## Epoch 14\ttrain_loss: 0.0006\tval_loss: 0.0025\tval_auroc: 0.9748\tval_avpr: 0.9966\n",
      "## Epoch 15\ttrain_loss: 0.0006\tval_loss: 0.0026\tval_auroc: 0.9692\tval_avpr: 0.9958\n",
      "## Epoch 16\ttrain_loss: 0.0006\tval_loss: 0.0026\tval_auroc: 0.9776\tval_avpr: 0.9970\n",
      "## Epoch 17\ttrain_loss: 0.0005\tval_loss: 0.0026\tval_auroc: 0.9776\tval_avpr: 0.9970\n",
      "## Epoch 18\ttrain_loss: 0.0004\tval_loss: 0.0025\tval_auroc: 0.9748\tval_avpr: 0.9967\n",
      "## Epoch 19\ttrain_loss: 0.0004\tval_loss: 0.0026\tval_auroc: 0.9804\tval_avpr: 0.9974\n",
      "## Epoch 20\ttrain_loss: 0.0005\tval_loss: 0.0026\tval_auroc: 0.9776\tval_avpr: 0.9970\n",
      "## Epoch 21\ttrain_loss: 0.0005\tval_loss: 0.0026\tval_auroc: 0.9804\tval_avpr: 0.9974\n",
      "## Epoch 22\ttrain_loss: 0.0004\tval_loss: 0.0026\tval_auroc: 0.9776\tval_avpr: 0.9970\n",
      "## Epoch 23\ttrain_loss: 0.0005\tval_loss: 0.0026\tval_auroc: 0.9720\tval_avpr: 0.9962\n"
     ]
    },
    {
     "name": "stderr",
     "output_type": "stream",
     "text": [
      "generating training, validation splits...\n"
     ]
    },
    {
     "name": "stdout",
     "output_type": "stream",
     "text": [
      "## Epoch 24\ttrain_loss: 0.0006\tval_loss: 0.0025\tval_auroc: 0.9748\tval_avpr: 0.9966\n",
      "## Epoch 25\ttrain_loss: 0.0004\tval_loss: 0.0025\tval_auroc: 0.9748\tval_avpr: 0.9966\n"
     ]
    },
    {
     "name": "stderr",
     "output_type": "stream",
     "text": [
      "100%|██████████| 461/461 [00:00<00:00, 3609.71it/s]\n",
      "featurizing_smiles, batch=1: 100%|██████████| 58/58 [00:00<00:00, 772.64it/s]\n",
      "Casting to FP32: 100%|██████████| 58/58 [00:00<00:00, 11284.95it/s]\n",
      "100%|██████████| 1/1 [00:00<00:00, 10.47it/s]\n",
      "featurizing_smiles, batch=13: 100%|██████████| 31/31 [00:00<00:00, 64.24it/s] \n",
      "Casting to FP32: 100%|██████████| 403/403 [00:00<00:00, 14826.45it/s]\n",
      "100%|██████████| 5/5 [00:00<00:00,  7.42it/s]\n"
     ]
    },
    {
     "name": "stdout",
     "output_type": "stream",
     "text": [
      "## Epoch 1\ttrain_loss: 0.0165\tval_loss: 0.0085\tval_auroc: 0.8528\tval_avpr: 0.9818\n",
      "## Epoch 2\ttrain_loss: 0.0089\tval_loss: 0.0055\tval_auroc: 0.9736\tval_avpr: 0.9975\n",
      "## Epoch 3\ttrain_loss: 0.0057\tval_loss: 0.0037\tval_auroc: 0.9698\tval_avpr: 0.9971\n",
      "## Epoch 4\ttrain_loss: 0.0041\tval_loss: 0.0029\tval_auroc: 0.9736\tval_avpr: 0.9975\n",
      "## Epoch 5\ttrain_loss: 0.0031\tval_loss: 0.0024\tval_auroc: 0.9849\tval_avpr: 0.9986\n",
      "## Epoch 6\ttrain_loss: 0.0023\tval_loss: 0.0022\tval_auroc: 0.9849\tval_avpr: 0.9986\n",
      "## Epoch 7\ttrain_loss: 0.0019\tval_loss: 0.0020\tval_auroc: 0.9925\tval_avpr: 0.9993\n",
      "## Epoch 8\ttrain_loss: 0.0015\tval_loss: 0.0020\tval_auroc: 0.9887\tval_avpr: 0.9990\n",
      "## Epoch 9\ttrain_loss: 0.0016\tval_loss: 0.0018\tval_auroc: 0.9925\tval_avpr: 0.9993\n",
      "## Epoch 10\ttrain_loss: 0.0010\tval_loss: 0.0019\tval_auroc: 0.9925\tval_avpr: 0.9993\n",
      "## Epoch 11\ttrain_loss: 0.0011\tval_loss: 0.0018\tval_auroc: 0.9887\tval_avpr: 0.9989\n",
      "## Epoch 12\ttrain_loss: 0.0009\tval_loss: 0.0019\tval_auroc: 0.9925\tval_avpr: 0.9993\n",
      "## Epoch 13\ttrain_loss: 0.0007\tval_loss: 0.0018\tval_auroc: 0.9887\tval_avpr: 0.9989\n",
      "## Epoch 14\ttrain_loss: 0.0008\tval_loss: 0.0018\tval_auroc: 0.9887\tval_avpr: 0.9989\n",
      "## Epoch 15\ttrain_loss: 0.0007\tval_loss: 0.0019\tval_auroc: 0.9925\tval_avpr: 0.9993\n",
      "## Epoch 16\ttrain_loss: 0.0006\tval_loss: 0.0016\tval_auroc: 0.9925\tval_avpr: 0.9993\n",
      "## Epoch 17\ttrain_loss: 0.0006\tval_loss: 0.0018\tval_auroc: 0.9925\tval_avpr: 0.9993\n",
      "## Epoch 18\ttrain_loss: 0.0007\tval_loss: 0.0016\tval_auroc: 0.9925\tval_avpr: 0.9993\n",
      "## Epoch 19\ttrain_loss: 0.0005\tval_loss: 0.0017\tval_auroc: 0.9925\tval_avpr: 0.9993\n",
      "## Epoch 20\ttrain_loss: 0.0006\tval_loss: 0.0017\tval_auroc: 0.9925\tval_avpr: 0.9993\n",
      "## Epoch 21\ttrain_loss: 0.0006\tval_loss: 0.0018\tval_auroc: 0.9925\tval_avpr: 0.9993\n",
      "## Epoch 22\ttrain_loss: 0.0006\tval_loss: 0.0017\tval_auroc: 0.9925\tval_avpr: 0.9993\n",
      "## Epoch 23\ttrain_loss: 0.0006\tval_loss: 0.0017\tval_auroc: 0.9925\tval_avpr: 0.9993\n"
     ]
    },
    {
     "name": "stderr",
     "output_type": "stream",
     "text": [
      "generating training, validation splits...\n"
     ]
    },
    {
     "name": "stdout",
     "output_type": "stream",
     "text": [
      "## Epoch 24\ttrain_loss: 0.0006\tval_loss: 0.0017\tval_auroc: 0.9925\tval_avpr: 0.9993\n",
      "## Epoch 25\ttrain_loss: 0.0005\tval_loss: 0.0016\tval_auroc: 0.9925\tval_avpr: 0.9993\n"
     ]
    },
    {
     "name": "stderr",
     "output_type": "stream",
     "text": [
      "100%|██████████| 461/461 [00:00<00:00, 3572.99it/s]\n",
      "featurizing_smiles, batch=1: 100%|██████████| 58/58 [00:00<00:00, 863.37it/s]\n",
      "Casting to FP32: 100%|██████████| 58/58 [00:00<00:00, 10101.30it/s]\n",
      "100%|██████████| 1/1 [00:00<00:00,  9.59it/s]\n",
      "featurizing_smiles, batch=13: 100%|██████████| 31/31 [00:00<00:00, 120.44it/s]\n",
      "Casting to FP32: 100%|██████████| 403/403 [00:00<00:00, 14641.26it/s]\n",
      "100%|██████████| 5/5 [00:00<00:00,  6.74it/s]\n"
     ]
    },
    {
     "name": "stdout",
     "output_type": "stream",
     "text": [
      "## Epoch 1\ttrain_loss: 0.0171\tval_loss: 0.0085\tval_auroc: 0.7051\tval_avpr: 0.9304\n",
      "## Epoch 2\ttrain_loss: 0.0088\tval_loss: 0.0058\tval_auroc: 0.8590\tval_avpr: 0.9800\n",
      "## Epoch 3\ttrain_loss: 0.0059\tval_loss: 0.0042\tval_auroc: 0.9103\tval_avpr: 0.9887\n",
      "## Epoch 4\ttrain_loss: 0.0041\tval_loss: 0.0035\tval_auroc: 0.9103\tval_avpr: 0.9886\n",
      "## Epoch 5\ttrain_loss: 0.0029\tval_loss: 0.0034\tval_auroc: 0.8910\tval_avpr: 0.9832\n",
      "## Epoch 6\ttrain_loss: 0.0025\tval_loss: 0.0032\tval_auroc: 0.9231\tval_avpr: 0.9898\n",
      "## Epoch 7\ttrain_loss: 0.0018\tval_loss: 0.0032\tval_auroc: 0.8814\tval_avpr: 0.9802\n",
      "## Epoch 8\ttrain_loss: 0.0015\tval_loss: 0.0031\tval_auroc: 0.8718\tval_avpr: 0.9755\n",
      "## Epoch 9\ttrain_loss: 0.0013\tval_loss: 0.0031\tval_auroc: 0.8878\tval_avpr: 0.9809\n",
      "## Epoch 10\ttrain_loss: 0.0011\tval_loss: 0.0027\tval_auroc: 0.8910\tval_avpr: 0.9818\n",
      "## Epoch 11\ttrain_loss: 0.0009\tval_loss: 0.0028\tval_auroc: 0.8910\tval_avpr: 0.9818\n",
      "## Epoch 12\ttrain_loss: 0.0009\tval_loss: 0.0029\tval_auroc: 0.8942\tval_avpr: 0.9827\n",
      "## Epoch 13\ttrain_loss: 0.0007\tval_loss: 0.0029\tval_auroc: 0.9038\tval_avpr: 0.9851\n",
      "## Epoch 14\ttrain_loss: 0.0007\tval_loss: 0.0029\tval_auroc: 0.9071\tval_avpr: 0.9858\n",
      "## Epoch 15\ttrain_loss: 0.0007\tval_loss: 0.0030\tval_auroc: 0.8942\tval_avpr: 0.9827\n",
      "## Epoch 16\ttrain_loss: 0.0006\tval_loss: 0.0030\tval_auroc: 0.8654\tval_avpr: 0.9728\n",
      "## Epoch 17\ttrain_loss: 0.0009\tval_loss: 0.0030\tval_auroc: 0.8558\tval_avpr: 0.9694\n",
      "## Epoch 18\ttrain_loss: 0.0009\tval_loss: 0.0031\tval_auroc: 0.8558\tval_avpr: 0.9694\n",
      "## Epoch 19\ttrain_loss: 0.0008\tval_loss: 0.0031\tval_auroc: 0.8782\tval_avpr: 0.9785\n",
      "## Epoch 20\ttrain_loss: 0.0005\tval_loss: 0.0030\tval_auroc: 0.8814\tval_avpr: 0.9796\n",
      "## Epoch 21\ttrain_loss: 0.0005\tval_loss: 0.0030\tval_auroc: 0.8878\tval_avpr: 0.9814\n",
      "## Epoch 22\ttrain_loss: 0.0005\tval_loss: 0.0030\tval_auroc: 0.8878\tval_avpr: 0.9814\n",
      "## Epoch 23\ttrain_loss: 0.0007\tval_loss: 0.0030\tval_auroc: 0.8814\tval_avpr: 0.9796\n"
     ]
    },
    {
     "name": "stderr",
     "output_type": "stream",
     "text": [
      "generating training, validation splits...\n"
     ]
    },
    {
     "name": "stdout",
     "output_type": "stream",
     "text": [
      "## Epoch 24\ttrain_loss: 0.0005\tval_loss: 0.0030\tval_auroc: 0.8814\tval_avpr: 0.9796\n",
      "## Epoch 25\ttrain_loss: 0.0005\tval_loss: 0.0030\tval_auroc: 0.8814\tval_avpr: 0.9796\n"
     ]
    },
    {
     "name": "stderr",
     "output_type": "stream",
     "text": [
      "100%|██████████| 461/461 [00:00<00:00, 3578.86it/s]\n",
      "featurizing_smiles, batch=1: 100%|██████████| 58/58 [00:00<00:00, 914.58it/s]\n",
      "Casting to FP32: 100%|██████████| 58/58 [00:00<00:00, 13169.64it/s]\n",
      "100%|██████████| 1/1 [00:00<00:00,  9.78it/s]\n",
      "featurizing_smiles, batch=13: 100%|██████████| 31/31 [00:00<00:00, 125.15it/s]\n",
      "Casting to FP32: 100%|██████████| 403/403 [00:00<00:00, 14221.45it/s]\n",
      "100%|██████████| 5/5 [00:00<00:00,  6.48it/s]\n"
     ]
    },
    {
     "name": "stdout",
     "output_type": "stream",
     "text": [
      "## Epoch 1\ttrain_loss: 0.0215\tval_loss: 0.0112\tval_auroc: 0.5370\tval_avpr: 0.9444\n",
      "## Epoch 2\ttrain_loss: 0.0115\tval_loss: 0.0070\tval_auroc: 0.7870\tval_avpr: 0.9688\n",
      "## Epoch 3\ttrain_loss: 0.0069\tval_loss: 0.0045\tval_auroc: 0.8380\tval_avpr: 0.9821\n",
      "## Epoch 4\ttrain_loss: 0.0048\tval_loss: 0.0033\tval_auroc: 0.8472\tval_avpr: 0.9838\n",
      "## Epoch 5\ttrain_loss: 0.0038\tval_loss: 0.0031\tval_auroc: 0.8241\tval_avpr: 0.9793\n",
      "## Epoch 6\ttrain_loss: 0.0029\tval_loss: 0.0028\tval_auroc: 0.8287\tval_avpr: 0.9803\n",
      "## Epoch 7\ttrain_loss: 0.0022\tval_loss: 0.0027\tval_auroc: 0.8241\tval_avpr: 0.9800\n",
      "## Epoch 8\ttrain_loss: 0.0016\tval_loss: 0.0028\tval_auroc: 0.8380\tval_avpr: 0.9821\n",
      "## Epoch 9\ttrain_loss: 0.0016\tval_loss: 0.0027\tval_auroc: 0.8241\tval_avpr: 0.9793\n",
      "## Epoch 10\ttrain_loss: 0.0015\tval_loss: 0.0026\tval_auroc: 0.8380\tval_avpr: 0.9826\n",
      "## Epoch 11\ttrain_loss: 0.0011\tval_loss: 0.0026\tval_auroc: 0.8472\tval_avpr: 0.9842\n",
      "## Epoch 12\ttrain_loss: 0.0011\tval_loss: 0.0027\tval_auroc: 0.8519\tval_avpr: 0.9849\n",
      "## Epoch 13\ttrain_loss: 0.0010\tval_loss: 0.0026\tval_auroc: 0.8380\tval_avpr: 0.9826\n",
      "## Epoch 14\ttrain_loss: 0.0009\tval_loss: 0.0025\tval_auroc: 0.8380\tval_avpr: 0.9826\n",
      "## Epoch 15\ttrain_loss: 0.0008\tval_loss: 0.0025\tval_auroc: 0.8333\tval_avpr: 0.9818\n",
      "## Epoch 16\ttrain_loss: 0.0007\tval_loss: 0.0025\tval_auroc: 0.8472\tval_avpr: 0.9842\n",
      "## Epoch 17\ttrain_loss: 0.0007\tval_loss: 0.0025\tval_auroc: 0.8287\tval_avpr: 0.9809\n",
      "## Epoch 18\ttrain_loss: 0.0007\tval_loss: 0.0025\tval_auroc: 0.8472\tval_avpr: 0.9842\n",
      "## Epoch 19\ttrain_loss: 0.0006\tval_loss: 0.0025\tval_auroc: 0.8333\tval_avpr: 0.9818\n",
      "## Epoch 20\ttrain_loss: 0.0007\tval_loss: 0.0026\tval_auroc: 0.8333\tval_avpr: 0.9818\n",
      "## Epoch 21\ttrain_loss: 0.0009\tval_loss: 0.0025\tval_auroc: 0.8380\tval_avpr: 0.9826\n",
      "## Epoch 22\ttrain_loss: 0.0006\tval_loss: 0.0025\tval_auroc: 0.8333\tval_avpr: 0.9818\n",
      "## Epoch 23\ttrain_loss: 0.0007\tval_loss: 0.0025\tval_auroc: 0.8333\tval_avpr: 0.9818\n"
     ]
    },
    {
     "name": "stderr",
     "output_type": "stream",
     "text": [
      "generating training, validation splits...\n"
     ]
    },
    {
     "name": "stdout",
     "output_type": "stream",
     "text": [
      "## Epoch 24\ttrain_loss: 0.0006\tval_loss: 0.0025\tval_auroc: 0.8333\tval_avpr: 0.9818\n",
      "## Epoch 25\ttrain_loss: 0.0006\tval_loss: 0.0025\tval_auroc: 0.8333\tval_avpr: 0.9818\n"
     ]
    },
    {
     "name": "stderr",
     "output_type": "stream",
     "text": [
      "100%|██████████| 461/461 [00:00<00:00, 3562.63it/s]\n",
      "featurizing_smiles, batch=2: 100%|██████████| 32/32 [00:00<00:00, 601.66it/s]\n",
      "Casting to FP32: 100%|██████████| 64/64 [00:00<00:00, 13423.12it/s]\n",
      "100%|██████████| 1/1 [00:00<00:00, 10.94it/s]\n",
      "featurizing_smiles, batch=13: 31it [00:00, 123.61it/s]                        \n",
      "Casting to FP32: 100%|██████████| 397/397 [00:00<00:00, 20337.57it/s]\n",
      "100%|██████████| 4/4 [00:00<00:00,  5.14it/s]\n"
     ]
    },
    {
     "name": "stdout",
     "output_type": "stream",
     "text": [
      "## Epoch 1\ttrain_loss: 0.0150\tval_loss: 0.0079\tval_auroc: 0.5238\tval_avpr: 0.8859\n",
      "## Epoch 2\ttrain_loss: 0.0080\tval_loss: 0.0054\tval_auroc: 0.7343\tval_avpr: 0.9434\n",
      "## Epoch 3\ttrain_loss: 0.0054\tval_loss: 0.0040\tval_auroc: 0.8045\tval_avpr: 0.9655\n",
      "## Epoch 4\ttrain_loss: 0.0039\tval_loss: 0.0036\tval_auroc: 0.8195\tval_avpr: 0.9686\n",
      "## Epoch 5\ttrain_loss: 0.0027\tval_loss: 0.0035\tval_auroc: 0.8271\tval_avpr: 0.9716\n",
      "## Epoch 6\ttrain_loss: 0.0019\tval_loss: 0.0035\tval_auroc: 0.8170\tval_avpr: 0.9691\n",
      "## Epoch 7\ttrain_loss: 0.0018\tval_loss: 0.0033\tval_auroc: 0.8396\tval_avpr: 0.9745\n",
      "## Epoch 8\ttrain_loss: 0.0014\tval_loss: 0.0034\tval_auroc: 0.8471\tval_avpr: 0.9769\n",
      "## Epoch 9\ttrain_loss: 0.0010\tval_loss: 0.0035\tval_auroc: 0.8521\tval_avpr: 0.9775\n",
      "## Epoch 10\ttrain_loss: 0.0009\tval_loss: 0.0036\tval_auroc: 0.8396\tval_avpr: 0.9750\n",
      "## Epoch 11\ttrain_loss: 0.0008\tval_loss: 0.0036\tval_auroc: 0.8471\tval_avpr: 0.9763\n",
      "## Epoch 12\ttrain_loss: 0.0006\tval_loss: 0.0036\tval_auroc: 0.8521\tval_avpr: 0.9774\n",
      "## Epoch 13\ttrain_loss: 0.0006\tval_loss: 0.0036\tval_auroc: 0.8471\tval_avpr: 0.9762\n",
      "## Epoch 14\ttrain_loss: 0.0008\tval_loss: 0.0036\tval_auroc: 0.8371\tval_avpr: 0.9740\n",
      "## Epoch 15\ttrain_loss: 0.0006\tval_loss: 0.0035\tval_auroc: 0.8496\tval_avpr: 0.9765\n",
      "## Epoch 16\ttrain_loss: 0.0006\tval_loss: 0.0035\tval_auroc: 0.8496\tval_avpr: 0.9770\n",
      "## Epoch 17\ttrain_loss: 0.0008\tval_loss: 0.0036\tval_auroc: 0.8571\tval_avpr: 0.9781\n",
      "## Epoch 18\ttrain_loss: 0.0006\tval_loss: 0.0037\tval_auroc: 0.8647\tval_avpr: 0.9795\n",
      "## Epoch 19\ttrain_loss: 0.0005\tval_loss: 0.0037\tval_auroc: 0.8521\tval_avpr: 0.9773\n",
      "## Epoch 20\ttrain_loss: 0.0005\tval_loss: 0.0036\tval_auroc: 0.8521\tval_avpr: 0.9773\n",
      "## Epoch 21\ttrain_loss: 0.0004\tval_loss: 0.0037\tval_auroc: 0.8421\tval_avpr: 0.9751\n",
      "## Epoch 22\ttrain_loss: 0.0005\tval_loss: 0.0037\tval_auroc: 0.8421\tval_avpr: 0.9751\n",
      "## Epoch 23\ttrain_loss: 0.0007\tval_loss: 0.0037\tval_auroc: 0.8421\tval_avpr: 0.9750\n",
      "## Epoch 24\ttrain_loss: 0.0005\tval_loss: 0.0037\tval_auroc: 0.8396\tval_avpr: 0.9744\n",
      "## Epoch 25\ttrain_loss: 0.0006\tval_loss: 0.0036\tval_auroc: 0.8396\tval_avpr: 0.9747\n",
      "test_loss: 0.0015\n",
      "test_auroc: 0.9844\n",
      "test_avpr: 0.9953\n"
     ]
    }
   ],
   "source": [
    "from copy import deepcopy\n",
    "\n",
    "seeds = [1, 2, 3, 4, 5]\n",
    "\n",
    "best_models = []\n",
    "\n",
    "for seed in seeds:\n",
    "    val_loader, train_loader = dataloader_factory(seed)\n",
    "    model, optimiser, lr_scheduler = model_factory()\n",
    "\n",
    "    best_epoch = {\"model\": None, \"result\": None}\n",
    "    for epoch in range(epochs):\n",
    "        model = train_one_epoch(model, train_loader, optimiser, lr_scheduler, loss_fn, epoch)\n",
    "        val_loss, val_auroc, _ = evaluate(model, val_loader, loss_fn)\n",
    "\n",
    "        if best_epoch['model'] is None:\n",
    "            best_epoch['model'] = deepcopy(model)\n",
    "            best_epoch['result'] = val_loss\n",
    "        else:\n",
    "            best_epoch['model'] = best_epoch['model'] if best_epoch['result'] <= val_loss else deepcopy(model)\n",
    "            best_epoch['result'] = best_epoch['result'] if best_epoch['result'] <= val_loss else val_loss \n",
    "\n",
    "    best_models.append(best_epoch['model'])\n",
    "\n",
    "test_loss, test_auroc, test_avpr = evaluate_ensemble(best_models, test_loader, loss_fn)\n",
    "print(\n",
    "    f\"test_loss: {test_loss:.4f}\\n\"\n",
    "    f\"test_auroc: {test_auroc:.4f}\\n\"\n",
    "    f\"test_avpr: {test_avpr:.4f}\"\n",
    ")"
   ]
  },
  {
   "cell_type": "markdown",
   "metadata": {},
   "source": [
    "As we can see, in less than 15s the ensemble was trained and reached performance of 0.9844 in AUROC on the test set. That's a decent improvement coming from 0.9683 that we got for a single model. More importantly, the ensemble is not senstitive to which part of the data is used for validation (because we train n models on n folds), and is less sensitive to the intialisation because we intialise n models getting somewhere close to an average performance. \n",
    "\n",
    "The results could be further improved by sweeping hyperparameters. Considering the low cost of fitting these tiny models, it would still be very fast. The results reported in the paper are slighly better than what we show here, thanks to sweeping that we performed for each task.  "
   ]
  }
 ],
 "metadata": {
  "kernelspec": {
   "display_name": "minimol",
   "language": "python",
   "name": "python3"
  },
  "language_info": {
   "codemirror_mode": {
    "name": "ipython",
    "version": 3
   },
   "file_extension": ".py",
   "mimetype": "text/x-python",
   "name": "python",
   "nbconvert_exporter": "python",
   "pygments_lexer": "ipython3",
   "version": "3.12.2"
  }
 },
 "nbformat": 4,
 "nbformat_minor": 2
}
